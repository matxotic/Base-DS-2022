{
  "nbformat": 4,
  "nbformat_minor": 0,
  "metadata": {
    "colab": {
      "provenance": []
    },
    "kernelspec": {
      "name": "python3",
      "display_name": "Python 3"
    },
    "language_info": {
      "name": "python"
    }
  },
  "cells": [
    {
      "cell_type": "code",
      "execution_count": 1,
      "metadata": {
        "colab": {
          "base_uri": "https://localhost:8080/"
        },
        "id": "yJ8BFHBHswra",
        "outputId": "dab3289c-1f93-4263-9c99-48951179f62d"
      },
      "outputs": [
        {
          "output_type": "stream",
          "name": "stdout",
          "text": [
            "Drive already mounted at /content/drive; to attempt to forcibly remount, call drive.mount(\"/content/drive\", force_remount=True).\n"
          ]
        }
      ],
      "source": [
        "from google.colab import drive \n",
        "drive.mount('/content/drive')"
      ]
    },
    {
      "cell_type": "code",
      "source": [
        "import pandas as pd \n",
        "\n",
        "path ='/content/drive/MyDrive/CVS/data_panen.csv' \n",
        "df = pd.read_csv(path) \n",
        "\n",
        "df.describe() "
      ],
      "metadata": {
        "colab": {
          "base_uri": "https://localhost:8080/",
          "height": 300
        },
        "id": "B4HxQ9Isvlk-",
        "outputId": "5bfe85ca-ea9c-4339-fec6-fbabed641bc4"
      },
      "execution_count": 4,
      "outputs": [
        {
          "output_type": "execute_result",
          "data": {
            "text/plain": [
              "        tahun  luas_panen     produksi\n",
              "count    26.0   26.000000    26.000000\n",
              "mean   2011.0  185.076923   385.269231\n",
              "std       0.0  200.329713   386.103256\n",
              "min    2011.0    1.000000     1.000000\n",
              "25%    2011.0   19.000000    44.000000\n",
              "50%    2011.0  126.500000   218.000000\n",
              "75%    2011.0  261.250000   729.250000\n",
              "max    2011.0  721.000000  1080.000000"
            ],
            "text/html": [
              "\n",
              "  <div id=\"df-ce8c335c-4e67-4fb0-8f6a-88598ee6b61f\">\n",
              "    <div class=\"colab-df-container\">\n",
              "      <div>\n",
              "<style scoped>\n",
              "    .dataframe tbody tr th:only-of-type {\n",
              "        vertical-align: middle;\n",
              "    }\n",
              "\n",
              "    .dataframe tbody tr th {\n",
              "        vertical-align: top;\n",
              "    }\n",
              "\n",
              "    .dataframe thead th {\n",
              "        text-align: right;\n",
              "    }\n",
              "</style>\n",
              "<table border=\"1\" class=\"dataframe\">\n",
              "  <thead>\n",
              "    <tr style=\"text-align: right;\">\n",
              "      <th></th>\n",
              "      <th>tahun</th>\n",
              "      <th>luas_panen</th>\n",
              "      <th>produksi</th>\n",
              "    </tr>\n",
              "  </thead>\n",
              "  <tbody>\n",
              "    <tr>\n",
              "      <th>count</th>\n",
              "      <td>26.0</td>\n",
              "      <td>26.000000</td>\n",
              "      <td>26.000000</td>\n",
              "    </tr>\n",
              "    <tr>\n",
              "      <th>mean</th>\n",
              "      <td>2011.0</td>\n",
              "      <td>185.076923</td>\n",
              "      <td>385.269231</td>\n",
              "    </tr>\n",
              "    <tr>\n",
              "      <th>std</th>\n",
              "      <td>0.0</td>\n",
              "      <td>200.329713</td>\n",
              "      <td>386.103256</td>\n",
              "    </tr>\n",
              "    <tr>\n",
              "      <th>min</th>\n",
              "      <td>2011.0</td>\n",
              "      <td>1.000000</td>\n",
              "      <td>1.000000</td>\n",
              "    </tr>\n",
              "    <tr>\n",
              "      <th>25%</th>\n",
              "      <td>2011.0</td>\n",
              "      <td>19.000000</td>\n",
              "      <td>44.000000</td>\n",
              "    </tr>\n",
              "    <tr>\n",
              "      <th>50%</th>\n",
              "      <td>2011.0</td>\n",
              "      <td>126.500000</td>\n",
              "      <td>218.000000</td>\n",
              "    </tr>\n",
              "    <tr>\n",
              "      <th>75%</th>\n",
              "      <td>2011.0</td>\n",
              "      <td>261.250000</td>\n",
              "      <td>729.250000</td>\n",
              "    </tr>\n",
              "    <tr>\n",
              "      <th>max</th>\n",
              "      <td>2011.0</td>\n",
              "      <td>721.000000</td>\n",
              "      <td>1080.000000</td>\n",
              "    </tr>\n",
              "  </tbody>\n",
              "</table>\n",
              "</div>\n",
              "      <button class=\"colab-df-convert\" onclick=\"convertToInteractive('df-ce8c335c-4e67-4fb0-8f6a-88598ee6b61f')\"\n",
              "              title=\"Convert this dataframe to an interactive table.\"\n",
              "              style=\"display:none;\">\n",
              "        \n",
              "  <svg xmlns=\"http://www.w3.org/2000/svg\" height=\"24px\"viewBox=\"0 0 24 24\"\n",
              "       width=\"24px\">\n",
              "    <path d=\"M0 0h24v24H0V0z\" fill=\"none\"/>\n",
              "    <path d=\"M18.56 5.44l.94 2.06.94-2.06 2.06-.94-2.06-.94-.94-2.06-.94 2.06-2.06.94zm-11 1L8.5 8.5l.94-2.06 2.06-.94-2.06-.94L8.5 2.5l-.94 2.06-2.06.94zm10 10l.94 2.06.94-2.06 2.06-.94-2.06-.94-.94-2.06-.94 2.06-2.06.94z\"/><path d=\"M17.41 7.96l-1.37-1.37c-.4-.4-.92-.59-1.43-.59-.52 0-1.04.2-1.43.59L10.3 9.45l-7.72 7.72c-.78.78-.78 2.05 0 2.83L4 21.41c.39.39.9.59 1.41.59.51 0 1.02-.2 1.41-.59l7.78-7.78 2.81-2.81c.8-.78.8-2.07 0-2.86zM5.41 20L4 18.59l7.72-7.72 1.47 1.35L5.41 20z\"/>\n",
              "  </svg>\n",
              "      </button>\n",
              "      \n",
              "  <style>\n",
              "    .colab-df-container {\n",
              "      display:flex;\n",
              "      flex-wrap:wrap;\n",
              "      gap: 12px;\n",
              "    }\n",
              "\n",
              "    .colab-df-convert {\n",
              "      background-color: #E8F0FE;\n",
              "      border: none;\n",
              "      border-radius: 50%;\n",
              "      cursor: pointer;\n",
              "      display: none;\n",
              "      fill: #1967D2;\n",
              "      height: 32px;\n",
              "      padding: 0 0 0 0;\n",
              "      width: 32px;\n",
              "    }\n",
              "\n",
              "    .colab-df-convert:hover {\n",
              "      background-color: #E2EBFA;\n",
              "      box-shadow: 0px 1px 2px rgba(60, 64, 67, 0.3), 0px 1px 3px 1px rgba(60, 64, 67, 0.15);\n",
              "      fill: #174EA6;\n",
              "    }\n",
              "\n",
              "    [theme=dark] .colab-df-convert {\n",
              "      background-color: #3B4455;\n",
              "      fill: #D2E3FC;\n",
              "    }\n",
              "\n",
              "    [theme=dark] .colab-df-convert:hover {\n",
              "      background-color: #434B5C;\n",
              "      box-shadow: 0px 1px 3px 1px rgba(0, 0, 0, 0.15);\n",
              "      filter: drop-shadow(0px 1px 2px rgba(0, 0, 0, 0.3));\n",
              "      fill: #FFFFFF;\n",
              "    }\n",
              "  </style>\n",
              "\n",
              "      <script>\n",
              "        const buttonEl =\n",
              "          document.querySelector('#df-ce8c335c-4e67-4fb0-8f6a-88598ee6b61f button.colab-df-convert');\n",
              "        buttonEl.style.display =\n",
              "          google.colab.kernel.accessAllowed ? 'block' : 'none';\n",
              "\n",
              "        async function convertToInteractive(key) {\n",
              "          const element = document.querySelector('#df-ce8c335c-4e67-4fb0-8f6a-88598ee6b61f');\n",
              "          const dataTable =\n",
              "            await google.colab.kernel.invokeFunction('convertToInteractive',\n",
              "                                                     [key], {});\n",
              "          if (!dataTable) return;\n",
              "\n",
              "          const docLinkHtml = 'Like what you see? Visit the ' +\n",
              "            '<a target=\"_blank\" href=https://colab.research.google.com/notebooks/data_table.ipynb>data table notebook</a>'\n",
              "            + ' to learn more about interactive tables.';\n",
              "          element.innerHTML = '';\n",
              "          dataTable['output_type'] = 'display_data';\n",
              "          await google.colab.output.renderOutput(dataTable, element);\n",
              "          const docLink = document.createElement('div');\n",
              "          docLink.innerHTML = docLinkHtml;\n",
              "          element.appendChild(docLink);\n",
              "        }\n",
              "      </script>\n",
              "    </div>\n",
              "  </div>\n",
              "  "
            ]
          },
          "metadata": {},
          "execution_count": 4
        }
      ]
    },
    {
      "cell_type": "code",
      "source": [
        "df"
      ],
      "metadata": {
        "colab": {
          "base_uri": "https://localhost:8080/",
          "height": 864
        },
        "id": "sCwnX0qwv_Eq",
        "outputId": "c62e9553-f36e-40fa-88f2-ee4054d459f5"
      },
      "execution_count": 5,
      "outputs": [
        {
          "output_type": "execute_result",
          "data": {
            "text/plain": [
              "    tahun     nama_kabkota jenis_tanaman  luas_panen  produksi\n",
              "0    2011    Jakarta Utara     Temuireng           1         1\n",
              "1    2011    Jakarta Pusat        Kunyit           1         3\n",
              "2    2011    Jakarta Pusat      Lengkuas           2         4\n",
              "3    2011    Jakarta Pusat          Jahe           1        11\n",
              "4    2011    Jakarta Utara        Kencur          16        27\n",
              "5    2011    Jakarta Utara    Kejibeling          15        27\n",
              "6    2011    Jakarta Pusat     Temuireng          70        43\n",
              "7    2011    Jakarta Barat     Lempuyang          28        47\n",
              "8    2011    Jakarta Pusat     Temulawak         129        83\n",
              "9    2011    Jakarta Pusat    Kejibeling           1        65\n",
              "10   2011    Jakarta Utara      Lengkuas          76        98\n",
              "11   2011    Jakarta Utara        Kunyit          68        86\n",
              "12   2011  Jakarta Selatan     Temuireng         124       459\n",
              "13   2011    Jakarta Timur     Lempuyang         334       254\n",
              "14   2011    Jakarta Barat      Lengkuas         184       457\n",
              "15   2011    Jakarta Barat    Kejibeling         235       523\n",
              "16   2011    Jakarta Utara          Jahe         102       182\n",
              "17   2011  Jakarta Selatan     Lempuyang         164       727\n",
              "18   2011  Jakarta Selatan     Temulawak         333       730\n",
              "19   2011    Jakarta Timur     Temulawak         721       799\n",
              "20   2011    Jakarta Timur     Temuireng         447       844\n",
              "21   2011    Jakarta Timur    Kejibeling         662       793\n",
              "22   2011    Jakarta Barat     Temulawak         270       554\n",
              "23   2011  Jakarta Selatan        Kencur         216      1052\n",
              "24   2011  Jakarta Selatan    Kejibeling         180      1068\n",
              "25   2011    Jakarta Barat        Kunyit         432      1080"
            ],
            "text/html": [
              "\n",
              "  <div id=\"df-2003235c-4d4f-4e70-bfbc-68b514795a3b\">\n",
              "    <div class=\"colab-df-container\">\n",
              "      <div>\n",
              "<style scoped>\n",
              "    .dataframe tbody tr th:only-of-type {\n",
              "        vertical-align: middle;\n",
              "    }\n",
              "\n",
              "    .dataframe tbody tr th {\n",
              "        vertical-align: top;\n",
              "    }\n",
              "\n",
              "    .dataframe thead th {\n",
              "        text-align: right;\n",
              "    }\n",
              "</style>\n",
              "<table border=\"1\" class=\"dataframe\">\n",
              "  <thead>\n",
              "    <tr style=\"text-align: right;\">\n",
              "      <th></th>\n",
              "      <th>tahun</th>\n",
              "      <th>nama_kabkota</th>\n",
              "      <th>jenis_tanaman</th>\n",
              "      <th>luas_panen</th>\n",
              "      <th>produksi</th>\n",
              "    </tr>\n",
              "  </thead>\n",
              "  <tbody>\n",
              "    <tr>\n",
              "      <th>0</th>\n",
              "      <td>2011</td>\n",
              "      <td>Jakarta Utara</td>\n",
              "      <td>Temuireng</td>\n",
              "      <td>1</td>\n",
              "      <td>1</td>\n",
              "    </tr>\n",
              "    <tr>\n",
              "      <th>1</th>\n",
              "      <td>2011</td>\n",
              "      <td>Jakarta Pusat</td>\n",
              "      <td>Kunyit</td>\n",
              "      <td>1</td>\n",
              "      <td>3</td>\n",
              "    </tr>\n",
              "    <tr>\n",
              "      <th>2</th>\n",
              "      <td>2011</td>\n",
              "      <td>Jakarta Pusat</td>\n",
              "      <td>Lengkuas</td>\n",
              "      <td>2</td>\n",
              "      <td>4</td>\n",
              "    </tr>\n",
              "    <tr>\n",
              "      <th>3</th>\n",
              "      <td>2011</td>\n",
              "      <td>Jakarta Pusat</td>\n",
              "      <td>Jahe</td>\n",
              "      <td>1</td>\n",
              "      <td>11</td>\n",
              "    </tr>\n",
              "    <tr>\n",
              "      <th>4</th>\n",
              "      <td>2011</td>\n",
              "      <td>Jakarta Utara</td>\n",
              "      <td>Kencur</td>\n",
              "      <td>16</td>\n",
              "      <td>27</td>\n",
              "    </tr>\n",
              "    <tr>\n",
              "      <th>5</th>\n",
              "      <td>2011</td>\n",
              "      <td>Jakarta Utara</td>\n",
              "      <td>Kejibeling</td>\n",
              "      <td>15</td>\n",
              "      <td>27</td>\n",
              "    </tr>\n",
              "    <tr>\n",
              "      <th>6</th>\n",
              "      <td>2011</td>\n",
              "      <td>Jakarta Pusat</td>\n",
              "      <td>Temuireng</td>\n",
              "      <td>70</td>\n",
              "      <td>43</td>\n",
              "    </tr>\n",
              "    <tr>\n",
              "      <th>7</th>\n",
              "      <td>2011</td>\n",
              "      <td>Jakarta Barat</td>\n",
              "      <td>Lempuyang</td>\n",
              "      <td>28</td>\n",
              "      <td>47</td>\n",
              "    </tr>\n",
              "    <tr>\n",
              "      <th>8</th>\n",
              "      <td>2011</td>\n",
              "      <td>Jakarta Pusat</td>\n",
              "      <td>Temulawak</td>\n",
              "      <td>129</td>\n",
              "      <td>83</td>\n",
              "    </tr>\n",
              "    <tr>\n",
              "      <th>9</th>\n",
              "      <td>2011</td>\n",
              "      <td>Jakarta Pusat</td>\n",
              "      <td>Kejibeling</td>\n",
              "      <td>1</td>\n",
              "      <td>65</td>\n",
              "    </tr>\n",
              "    <tr>\n",
              "      <th>10</th>\n",
              "      <td>2011</td>\n",
              "      <td>Jakarta Utara</td>\n",
              "      <td>Lengkuas</td>\n",
              "      <td>76</td>\n",
              "      <td>98</td>\n",
              "    </tr>\n",
              "    <tr>\n",
              "      <th>11</th>\n",
              "      <td>2011</td>\n",
              "      <td>Jakarta Utara</td>\n",
              "      <td>Kunyit</td>\n",
              "      <td>68</td>\n",
              "      <td>86</td>\n",
              "    </tr>\n",
              "    <tr>\n",
              "      <th>12</th>\n",
              "      <td>2011</td>\n",
              "      <td>Jakarta Selatan</td>\n",
              "      <td>Temuireng</td>\n",
              "      <td>124</td>\n",
              "      <td>459</td>\n",
              "    </tr>\n",
              "    <tr>\n",
              "      <th>13</th>\n",
              "      <td>2011</td>\n",
              "      <td>Jakarta Timur</td>\n",
              "      <td>Lempuyang</td>\n",
              "      <td>334</td>\n",
              "      <td>254</td>\n",
              "    </tr>\n",
              "    <tr>\n",
              "      <th>14</th>\n",
              "      <td>2011</td>\n",
              "      <td>Jakarta Barat</td>\n",
              "      <td>Lengkuas</td>\n",
              "      <td>184</td>\n",
              "      <td>457</td>\n",
              "    </tr>\n",
              "    <tr>\n",
              "      <th>15</th>\n",
              "      <td>2011</td>\n",
              "      <td>Jakarta Barat</td>\n",
              "      <td>Kejibeling</td>\n",
              "      <td>235</td>\n",
              "      <td>523</td>\n",
              "    </tr>\n",
              "    <tr>\n",
              "      <th>16</th>\n",
              "      <td>2011</td>\n",
              "      <td>Jakarta Utara</td>\n",
              "      <td>Jahe</td>\n",
              "      <td>102</td>\n",
              "      <td>182</td>\n",
              "    </tr>\n",
              "    <tr>\n",
              "      <th>17</th>\n",
              "      <td>2011</td>\n",
              "      <td>Jakarta Selatan</td>\n",
              "      <td>Lempuyang</td>\n",
              "      <td>164</td>\n",
              "      <td>727</td>\n",
              "    </tr>\n",
              "    <tr>\n",
              "      <th>18</th>\n",
              "      <td>2011</td>\n",
              "      <td>Jakarta Selatan</td>\n",
              "      <td>Temulawak</td>\n",
              "      <td>333</td>\n",
              "      <td>730</td>\n",
              "    </tr>\n",
              "    <tr>\n",
              "      <th>19</th>\n",
              "      <td>2011</td>\n",
              "      <td>Jakarta Timur</td>\n",
              "      <td>Temulawak</td>\n",
              "      <td>721</td>\n",
              "      <td>799</td>\n",
              "    </tr>\n",
              "    <tr>\n",
              "      <th>20</th>\n",
              "      <td>2011</td>\n",
              "      <td>Jakarta Timur</td>\n",
              "      <td>Temuireng</td>\n",
              "      <td>447</td>\n",
              "      <td>844</td>\n",
              "    </tr>\n",
              "    <tr>\n",
              "      <th>21</th>\n",
              "      <td>2011</td>\n",
              "      <td>Jakarta Timur</td>\n",
              "      <td>Kejibeling</td>\n",
              "      <td>662</td>\n",
              "      <td>793</td>\n",
              "    </tr>\n",
              "    <tr>\n",
              "      <th>22</th>\n",
              "      <td>2011</td>\n",
              "      <td>Jakarta Barat</td>\n",
              "      <td>Temulawak</td>\n",
              "      <td>270</td>\n",
              "      <td>554</td>\n",
              "    </tr>\n",
              "    <tr>\n",
              "      <th>23</th>\n",
              "      <td>2011</td>\n",
              "      <td>Jakarta Selatan</td>\n",
              "      <td>Kencur</td>\n",
              "      <td>216</td>\n",
              "      <td>1052</td>\n",
              "    </tr>\n",
              "    <tr>\n",
              "      <th>24</th>\n",
              "      <td>2011</td>\n",
              "      <td>Jakarta Selatan</td>\n",
              "      <td>Kejibeling</td>\n",
              "      <td>180</td>\n",
              "      <td>1068</td>\n",
              "    </tr>\n",
              "    <tr>\n",
              "      <th>25</th>\n",
              "      <td>2011</td>\n",
              "      <td>Jakarta Barat</td>\n",
              "      <td>Kunyit</td>\n",
              "      <td>432</td>\n",
              "      <td>1080</td>\n",
              "    </tr>\n",
              "  </tbody>\n",
              "</table>\n",
              "</div>\n",
              "      <button class=\"colab-df-convert\" onclick=\"convertToInteractive('df-2003235c-4d4f-4e70-bfbc-68b514795a3b')\"\n",
              "              title=\"Convert this dataframe to an interactive table.\"\n",
              "              style=\"display:none;\">\n",
              "        \n",
              "  <svg xmlns=\"http://www.w3.org/2000/svg\" height=\"24px\"viewBox=\"0 0 24 24\"\n",
              "       width=\"24px\">\n",
              "    <path d=\"M0 0h24v24H0V0z\" fill=\"none\"/>\n",
              "    <path d=\"M18.56 5.44l.94 2.06.94-2.06 2.06-.94-2.06-.94-.94-2.06-.94 2.06-2.06.94zm-11 1L8.5 8.5l.94-2.06 2.06-.94-2.06-.94L8.5 2.5l-.94 2.06-2.06.94zm10 10l.94 2.06.94-2.06 2.06-.94-2.06-.94-.94-2.06-.94 2.06-2.06.94z\"/><path d=\"M17.41 7.96l-1.37-1.37c-.4-.4-.92-.59-1.43-.59-.52 0-1.04.2-1.43.59L10.3 9.45l-7.72 7.72c-.78.78-.78 2.05 0 2.83L4 21.41c.39.39.9.59 1.41.59.51 0 1.02-.2 1.41-.59l7.78-7.78 2.81-2.81c.8-.78.8-2.07 0-2.86zM5.41 20L4 18.59l7.72-7.72 1.47 1.35L5.41 20z\"/>\n",
              "  </svg>\n",
              "      </button>\n",
              "      \n",
              "  <style>\n",
              "    .colab-df-container {\n",
              "      display:flex;\n",
              "      flex-wrap:wrap;\n",
              "      gap: 12px;\n",
              "    }\n",
              "\n",
              "    .colab-df-convert {\n",
              "      background-color: #E8F0FE;\n",
              "      border: none;\n",
              "      border-radius: 50%;\n",
              "      cursor: pointer;\n",
              "      display: none;\n",
              "      fill: #1967D2;\n",
              "      height: 32px;\n",
              "      padding: 0 0 0 0;\n",
              "      width: 32px;\n",
              "    }\n",
              "\n",
              "    .colab-df-convert:hover {\n",
              "      background-color: #E2EBFA;\n",
              "      box-shadow: 0px 1px 2px rgba(60, 64, 67, 0.3), 0px 1px 3px 1px rgba(60, 64, 67, 0.15);\n",
              "      fill: #174EA6;\n",
              "    }\n",
              "\n",
              "    [theme=dark] .colab-df-convert {\n",
              "      background-color: #3B4455;\n",
              "      fill: #D2E3FC;\n",
              "    }\n",
              "\n",
              "    [theme=dark] .colab-df-convert:hover {\n",
              "      background-color: #434B5C;\n",
              "      box-shadow: 0px 1px 3px 1px rgba(0, 0, 0, 0.15);\n",
              "      filter: drop-shadow(0px 1px 2px rgba(0, 0, 0, 0.3));\n",
              "      fill: #FFFFFF;\n",
              "    }\n",
              "  </style>\n",
              "\n",
              "      <script>\n",
              "        const buttonEl =\n",
              "          document.querySelector('#df-2003235c-4d4f-4e70-bfbc-68b514795a3b button.colab-df-convert');\n",
              "        buttonEl.style.display =\n",
              "          google.colab.kernel.accessAllowed ? 'block' : 'none';\n",
              "\n",
              "        async function convertToInteractive(key) {\n",
              "          const element = document.querySelector('#df-2003235c-4d4f-4e70-bfbc-68b514795a3b');\n",
              "          const dataTable =\n",
              "            await google.colab.kernel.invokeFunction('convertToInteractive',\n",
              "                                                     [key], {});\n",
              "          if (!dataTable) return;\n",
              "\n",
              "          const docLinkHtml = 'Like what you see? Visit the ' +\n",
              "            '<a target=\"_blank\" href=https://colab.research.google.com/notebooks/data_table.ipynb>data table notebook</a>'\n",
              "            + ' to learn more about interactive tables.';\n",
              "          element.innerHTML = '';\n",
              "          dataTable['output_type'] = 'display_data';\n",
              "          await google.colab.output.renderOutput(dataTable, element);\n",
              "          const docLink = document.createElement('div');\n",
              "          docLink.innerHTML = docLinkHtml;\n",
              "          element.appendChild(docLink);\n",
              "        }\n",
              "      </script>\n",
              "    </div>\n",
              "  </div>\n",
              "  "
            ]
          },
          "metadata": {},
          "execution_count": 5
        }
      ]
    },
    {
      "cell_type": "code",
      "source": [
        "import matplotlib.pyplot as plt \n",
        "\n",
        "df.plot(kind='scatter', x='produksi', y='luas_panen') \n",
        "\n",
        "plt.title('indek kesejahteraan warga')\n",
        "plt.xlabel('X')\n",
        "plt.ylabel('y')\n",
        "plt.xlim(0, 1000)\n",
        "plt.ylim(0, 1000)\n",
        "plt.grid(True)\n",
        "plt.show()"
      ],
      "metadata": {
        "colab": {
          "base_uri": "https://localhost:8080/",
          "height": 295
        },
        "id": "YeBhq_MiwGFT",
        "outputId": "a8aa8148-8809-4594-b097-1e0b4195b426"
      },
      "execution_count": 6,
      "outputs": [
        {
          "output_type": "display_data",
          "data": {
            "text/plain": [
              "<Figure size 432x288 with 1 Axes>"
            ],
            "image/png": "[encoded data removed]"
          },
          "metadata": {
            "needs_background": "light"
          }
        }
      ]
    },
    {
      "cell_type": "code",
      "source": [
        "import numpy as np\n",
        "x = np.array(df['produksi'])\n",
        "y = np.array(df['luas_panen'])\n",
        "\n",
        "print(f'x : {x}')\n",
        "print(f'y : {y}')"
      ],
      "metadata": {
        "colab": {
          "base_uri": "https://localhost:8080/"
        },
        "id": "3RwOjfe0CaiJ",
        "outputId": "60ec3702-9d6b-43a7-e188-7be08814dbed"
      },
      "execution_count": 7,
      "outputs": [
        {
          "output_type": "stream",
          "name": "stdout",
          "text": [
            "x : [   1    3    4   11   27   27   43   47   83   65   98   86  459  254\n",
            "  457  523  182  727  730  799  844  793  554 1052 1068 1080]\n",
            "y : [  1   1   2   1  16  15  70  28 129   1  76  68 124 334 184 235 102 164\n",
            " 333 721 447 662 270 216 180 432]\n"
          ]
        }
      ]
    },
    {
      "cell_type": "code",
      "source": [
        "x = x.reshape(-1, 1)\n",
        "x.shape"
      ],
      "metadata": {
        "colab": {
          "base_uri": "https://localhost:8080/"
        },
        "id": "rplzLtTKCmg5",
        "outputId": "eeeb2d64-60fe-4e4b-9abc-12fcc4da0a45"
      },
      "execution_count": 8,
      "outputs": [
        {
          "output_type": "execute_result",
          "data": {
            "text/plain": [
              "(26, 1)"
            ]
          },
          "metadata": {},
          "execution_count": 8
        }
      ]
    },
    {
      "cell_type": "code",
      "source": [
        "x"
      ],
      "metadata": {
        "colab": {
          "base_uri": "https://localhost:8080/"
        },
        "id": "EgJfHOr7Cuq3",
        "outputId": "6293c641-1986-4342-ce33-af0958956893"
      },
      "execution_count": 9,
      "outputs": [
        {
          "output_type": "execute_result",
          "data": {
            "text/plain": [
              "array([[   1],\n",
              "       [   3],\n",
              "       [   4],\n",
              "       [  11],\n",
              "       [  27],\n",
              "       [  27],\n",
              "       [  43],\n",
              "       [  47],\n",
              "       [  83],\n",
              "       [  65],\n",
              "       [  98],\n",
              "       [  86],\n",
              "       [ 459],\n",
              "       [ 254],\n",
              "       [ 457],\n",
              "       [ 523],\n",
              "       [ 182],\n",
              "       [ 727],\n",
              "       [ 730],\n",
              "       [ 799],\n",
              "       [ 844],\n",
              "       [ 793],\n",
              "       [ 554],\n",
              "       [1052],\n",
              "       [1068],\n",
              "       [1080]])"
            ]
          },
          "metadata": {},
          "execution_count": 9
        }
      ]
    },
    {
      "cell_type": "code",
      "source": [
        "# training model\n",
        "from sklearn.linear_model import LinearRegression\n",
        "\n",
        "model = LinearRegression()\n",
        "model.fit(x, y) "
      ],
      "metadata": {
        "colab": {
          "base_uri": "https://localhost:8080/"
        },
        "id": "wnfhhrpQCwLw",
        "outputId": "7871ce20-f2a2-47c9-884f-3a33f74afc47"
      },
      "execution_count": 10,
      "outputs": [
        {
          "output_type": "execute_result",
          "data": {
            "text/plain": [
              "LinearRegression()"
            ]
          },
          "metadata": {},
          "execution_count": 10
        }
      ]
    },
    {
      "cell_type": "code",
      "source": [
        "x_vis = np.array([0, 10000]).reshape(-1, 1)\n",
        "y_vis = model.predict(x_vis)"
      ],
      "metadata": {
        "id": "lh9_Zn39C00o"
      },
      "execution_count": 11,
      "outputs": []
    },
    {
      "cell_type": "code",
      "source": [
        "plt.scatter(x, y)\n",
        "plt.plot(x_vis, y_vis, '-r')\n",
        "plt.title('indeks kesejahteraan warga')\n",
        "plt.xlabel('X')\n",
        "plt.ylabel('y')\n",
        "plt.xlim(0, 1200)\n",
        "plt.ylim(0, 1200)\n",
        "plt.grid(True)\n",
        "plt.show()"
      ],
      "metadata": {
        "colab": {
          "base_uri": "https://localhost:8080/",
          "height": 295
        },
        "id": "HtMxOGi6C9tb",
        "outputId": "6586f604-559e-4c04-f74e-3edfd6591176"
      },
      "execution_count": 12,
      "outputs": [
        {
          "output_type": "display_data",
          "data": {
            "text/plain": [
              "<Figure size 432x288 with 1 Axes>"
            ],
            "image/png": "[encoded data removed]"
          },
          "metadata": {
            "needs_background": "light"
          }
        }
      ]
    },
    {
      "cell_type": "code",
      "source": [
        "print(f'intercept : {model.intercept_}')\n",
        "print(f'slope : {model.coef_}')"
      ],
      "metadata": {
        "colab": {
          "base_uri": "https://localhost:8080/"
        },
        "id": "Jynic-K7DlJ7",
        "outputId": "ea92c78d-d4cc-45bc-8bfe-8a414ccab426"
      },
      "execution_count": 13,
      "outputs": [
        {
          "output_type": "stream",
          "name": "stdout",
          "text": [
            "intercept : 38.39849154205271\n",
            "slope : [0.3807167]\n"
          ]
        }
      ]
    },
    {
      "cell_type": "code",
      "source": [
        "produksi = np.array([145, 734, 320, 160]).reshape(-1, 1)\n",
        "produksi"
      ],
      "metadata": {
        "colab": {
          "base_uri": "https://localhost:8080/"
        },
        "id": "3Eo0xdfpDokX",
        "outputId": "7480efa8-f9a9-4f83-8ef2-3abcd861435c"
      },
      "execution_count": 14,
      "outputs": [
        {
          "output_type": "execute_result",
          "data": {
            "text/plain": [
              "array([[145],\n",
              "       [734],\n",
              "       [320],\n",
              "       [160]])"
            ]
          },
          "metadata": {},
          "execution_count": 14
        }
      ]
    },
    {
      "cell_type": "code",
      "source": [
        "prediksi_indeks = model.predict(produksi)\n",
        "prediksi_indeks"
      ],
      "metadata": {
        "colab": {
          "base_uri": "https://localhost:8080/"
        },
        "id": "bpoxkB8OD3CT",
        "outputId": "2d66504e-c1f3-4d00-d0a9-252a5a0789d9"
      },
      "execution_count": 15,
      "outputs": [
        {
          "output_type": "execute_result",
          "data": {
            "text/plain": [
              "array([ 93.60241356, 317.84455198, 160.22783669,  99.31316412])"
            ]
          },
          "metadata": {},
          "execution_count": 15
        }
      ]
    },
    {
      "cell_type": "code",
      "source": [
        "for penduduk, index in zip(produksi, prediksi_indeks):\n",
        "  print(f'luas panen: {penduduk} produksi : {index}')"
      ],
      "metadata": {
        "colab": {
          "base_uri": "https://localhost:8080/"
        },
        "id": "U24dcpBzD6BZ",
        "outputId": "903e6e3d-c23f-4405-f40c-19509f41608e"
      },
      "execution_count": 16,
      "outputs": [
        {
          "output_type": "stream",
          "name": "stdout",
          "text": [
            "luas panen: [145] produksi : 93.60241356326279\n",
            "luas panen: [734] produksi : 317.84455198045396\n",
            "luas panen: [320] produksi : 160.2278366923094\n",
            "luas panen: [160] produksi : 99.31316411718106\n"
          ]
        }
      ]
    },
    {
      "cell_type": "code",
      "source": [
        "# PIECART\n",
        "fig = plt.figure()\n",
        "ax = fig.add_axes([0,0,1,1])\n",
        "ax.axis('equal')\n",
        "plt.title(\"pajak dan hutang\")\n",
        "jurusan =df [ 'produksi' ]\n",
        "siswa = df['luas_panen']\n",
        "ax.pie(siswa,labels=jurusan,autopct='%1.2f%%')\n",
        "plt.show()\n",
        "print()\n",
        "\n",
        "fig = plt.figure()\n",
        "ax = fig.add_axes([0,0,1,1])\n",
        "indeks = (df['produksi'])\n",
        "jumlah = (df['luas_panen'])\n",
        "c = ['blue', 'yellow', 'green','red','gray']\n",
        "plt.title(\"tabel index kesejahteraan\")\n",
        "plt.xlabel(\"index kesejahteraaan\")\n",
        "plt.ylabel(\"jumlah penduduk\")\n",
        "plt.bar(indeks, jumlah, color = c)\n",
        "plt.grid(True)\n",
        "plt.show "
      ],
      "metadata": {
        "colab": {
          "base_uri": "https://localhost:8080/",
          "height": 721
        },
        "id": "y4Ma2eB7EsGH",
        "outputId": "d9a461f6-df2c-4531-d031-c61d8cecdd8b"
      },
      "execution_count": 17,
      "outputs": [
        {
          "output_type": "display_data",
          "data": {
            "text/plain": [
              "<Figure size 432x288 with 1 Axes>"
            ],
            "image/png": "[encoded data removed]"
          },
          "metadata": {}
        },
        {
          "output_type": "stream",
          "name": "stdout",
          "text": [
            "\n"
          ]
        },
        {
          "output_type": "execute_result",
          "data": {
            "text/plain": [
              "<function matplotlib.pyplot.show(*args, **kw)>"
            ]
          },
          "metadata": {},
          "execution_count": 17
        },
        {
          "output_type": "display_data",
          "data": {
            "text/plain": [
              "<Figure size 432x288 with 1 Axes>"
            ],
            "image/png": "[encoded data removed]"
          },
          "metadata": {
            "needs_background": "light"
          }
        }
      ]
    }
  ]
}