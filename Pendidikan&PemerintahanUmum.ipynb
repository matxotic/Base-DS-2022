{
  "nbformat": 4,
  "nbformat_minor": 0,
  "metadata": {
    "colab": {
      "provenance": []
    },
    "kernelspec": {
      "name": "python3",
      "display_name": "Python 3"
    },
    "language_info": {
      "name": "python"
    }
  },
  "cells": [
    {
      "cell_type": "code",
      "execution_count": 2,
      "metadata": {
        "id": "PrUITrbB35Sk"
      },
      "outputs": [],
      "source": [
        "import statistics\n",
        "import pandas as pd\n",
        "import numpy as np\n",
        "from scipy import stats\n",
        "\n",
        "import matplotlib.pyplot as plt"
      ]
    },
    {
      "cell_type": "code",
      "source": [
        "import pandas as pd \n",
        "\n",
        "path ='/content/drive/MyDrive/CVS/jml..csv' \n",
        "df = pd.read_csv(path) \n",
        "\n",
        "df.describe() "
      ],
      "metadata": {
        "colab": {
          "base_uri": "https://localhost:8080/",
          "height": 300
        },
        "id": "koC8-JNr4DEg",
        "outputId": "a37a3751-97e5-489b-e5ae-d0569a60ab16"
      },
      "execution_count": 4,
      "outputs": [
        {
          "output_type": "execute_result",
          "data": {
            "text/plain": [
              "        tahun   perempuan   laki_laki\n",
              "count    25.0   25.000000   25.000000\n",
              "mean   2015.0   69.894840   73.328160\n",
              "std       0.0  105.502646  120.320598\n",
              "min    2015.0    1.354000    1.181000\n",
              "25%    2015.0   17.011000   19.539000\n",
              "50%    2015.0   31.551000   29.813000\n",
              "75%    2015.0   89.702000   82.205000\n",
              "max    2015.0  508.000000  589.000000"
            ],
            "text/html": [
              "\n",
              "  <div id=\"df-143043da-b183-420a-83df-7447ea83eede\">\n",
              "    <div class=\"colab-df-container\">\n",
              "      <div>\n",
              "<style scoped>\n",
              "    .dataframe tbody tr th:only-of-type {\n",
              "        vertical-align: middle;\n",
              "    }\n",
              "\n",
              "    .dataframe tbody tr th {\n",
              "        vertical-align: top;\n",
              "    }\n",
              "\n",
              "    .dataframe thead th {\n",
              "        text-align: right;\n",
              "    }\n",
              "</style>\n",
              "<table border=\"1\" class=\"dataframe\">\n",
              "  <thead>\n",
              "    <tr style=\"text-align: right;\">\n",
              "      <th></th>\n",
              "      <th>tahun</th>\n",
              "      <th>perempuan</th>\n",
              "      <th>laki_laki</th>\n",
              "    </tr>\n",
              "  </thead>\n",
              "  <tbody>\n",
              "    <tr>\n",
              "      <th>count</th>\n",
              "      <td>25.0</td>\n",
              "      <td>25.000000</td>\n",
              "      <td>25.000000</td>\n",
              "    </tr>\n",
              "    <tr>\n",
              "      <th>mean</th>\n",
              "      <td>2015.0</td>\n",
              "      <td>69.894840</td>\n",
              "      <td>73.328160</td>\n",
              "    </tr>\n",
              "    <tr>\n",
              "      <th>std</th>\n",
              "      <td>0.0</td>\n",
              "      <td>105.502646</td>\n",
              "      <td>120.320598</td>\n",
              "    </tr>\n",
              "    <tr>\n",
              "      <th>min</th>\n",
              "      <td>2015.0</td>\n",
              "      <td>1.354000</td>\n",
              "      <td>1.181000</td>\n",
              "    </tr>\n",
              "    <tr>\n",
              "      <th>25%</th>\n",
              "      <td>2015.0</td>\n",
              "      <td>17.011000</td>\n",
              "      <td>19.539000</td>\n",
              "    </tr>\n",
              "    <tr>\n",
              "      <th>50%</th>\n",
              "      <td>2015.0</td>\n",
              "      <td>31.551000</td>\n",
              "      <td>29.813000</td>\n",
              "    </tr>\n",
              "    <tr>\n",
              "      <th>75%</th>\n",
              "      <td>2015.0</td>\n",
              "      <td>89.702000</td>\n",
              "      <td>82.205000</td>\n",
              "    </tr>\n",
              "    <tr>\n",
              "      <th>max</th>\n",
              "      <td>2015.0</td>\n",
              "      <td>508.000000</td>\n",
              "      <td>589.000000</td>\n",
              "    </tr>\n",
              "  </tbody>\n",
              "</table>\n",
              "</div>\n",
              "      <button class=\"colab-df-convert\" onclick=\"convertToInteractive('df-143043da-b183-420a-83df-7447ea83eede')\"\n",
              "              title=\"Convert this dataframe to an interactive table.\"\n",
              "              style=\"display:none;\">\n",
              "        \n",
              "  <svg xmlns=\"http://www.w3.org/2000/svg\" height=\"24px\"viewBox=\"0 0 24 24\"\n",
              "       width=\"24px\">\n",
              "    <path d=\"M0 0h24v24H0V0z\" fill=\"none\"/>\n",
              "    <path d=\"M18.56 5.44l.94 2.06.94-2.06 2.06-.94-2.06-.94-.94-2.06-.94 2.06-2.06.94zm-11 1L8.5 8.5l.94-2.06 2.06-.94-2.06-.94L8.5 2.5l-.94 2.06-2.06.94zm10 10l.94 2.06.94-2.06 2.06-.94-2.06-.94-.94-2.06-.94 2.06-2.06.94z\"/><path d=\"M17.41 7.96l-1.37-1.37c-.4-.4-.92-.59-1.43-.59-.52 0-1.04.2-1.43.59L10.3 9.45l-7.72 7.72c-.78.78-.78 2.05 0 2.83L4 21.41c.39.39.9.59 1.41.59.51 0 1.02-.2 1.41-.59l7.78-7.78 2.81-2.81c.8-.78.8-2.07 0-2.86zM5.41 20L4 18.59l7.72-7.72 1.47 1.35L5.41 20z\"/>\n",
              "  </svg>\n",
              "      </button>\n",
              "      \n",
              "  <style>\n",
              "    .colab-df-container {\n",
              "      display:flex;\n",
              "      flex-wrap:wrap;\n",
              "      gap: 12px;\n",
              "    }\n",
              "\n",
              "    .colab-df-convert {\n",
              "      background-color: #E8F0FE;\n",
              "      border: none;\n",
              "      border-radius: 50%;\n",
              "      cursor: pointer;\n",
              "      display: none;\n",
              "      fill: #1967D2;\n",
              "      height: 32px;\n",
              "      padding: 0 0 0 0;\n",
              "      width: 32px;\n",
              "    }\n",
              "\n",
              "    .colab-df-convert:hover {\n",
              "      background-color: #E2EBFA;\n",
              "      box-shadow: 0px 1px 2px rgba(60, 64, 67, 0.3), 0px 1px 3px 1px rgba(60, 64, 67, 0.15);\n",
              "      fill: #174EA6;\n",
              "    }\n",
              "\n",
              "    [theme=dark] .colab-df-convert {\n",
              "      background-color: #3B4455;\n",
              "      fill: #D2E3FC;\n",
              "    }\n",
              "\n",
              "    [theme=dark] .colab-df-convert:hover {\n",
              "      background-color: #434B5C;\n",
              "      box-shadow: 0px 1px 3px 1px rgba(0, 0, 0, 0.15);\n",
              "      filter: drop-shadow(0px 1px 2px rgba(0, 0, 0, 0.3));\n",
              "      fill: #FFFFFF;\n",
              "    }\n",
              "  </style>\n",
              "\n",
              "      <script>\n",
              "        const buttonEl =\n",
              "          document.querySelector('#df-143043da-b183-420a-83df-7447ea83eede button.colab-df-convert');\n",
              "        buttonEl.style.display =\n",
              "          google.colab.kernel.accessAllowed ? 'block' : 'none';\n",
              "\n",
              "        async function convertToInteractive(key) {\n",
              "          const element = document.querySelector('#df-143043da-b183-420a-83df-7447ea83eede');\n",
              "          const dataTable =\n",
              "            await google.colab.kernel.invokeFunction('convertToInteractive',\n",
              "                                                     [key], {});\n",
              "          if (!dataTable) return;\n",
              "\n",
              "          const docLinkHtml = 'Like what you see? Visit the ' +\n",
              "            '<a target=\"_blank\" href=https://colab.research.google.com/notebooks/data_table.ipynb>data table notebook</a>'\n",
              "            + ' to learn more about interactive tables.';\n",
              "          element.innerHTML = '';\n",
              "          dataTable['output_type'] = 'display_data';\n",
              "          await google.colab.output.renderOutput(dataTable, element);\n",
              "          const docLink = document.createElement('div');\n",
              "          docLink.innerHTML = docLinkHtml;\n",
              "          element.appendChild(docLink);\n",
              "        }\n",
              "      </script>\n",
              "    </div>\n",
              "  </div>\n",
              "  "
            ]
          },
          "metadata": {},
          "execution_count": 4
        }
      ]
    },
    {
      "cell_type": "code",
      "source": [
        "df"
      ],
      "metadata": {
        "colab": {
          "base_uri": "https://localhost:8080/",
          "height": 833
        },
        "id": "Ez_LwB-l4nrn",
        "outputId": "7efe6b57-c09e-4e2c-ef20-a84c2192d6dc"
      },
      "execution_count": 5,
      "outputs": [
        {
          "output_type": "execute_result",
          "data": {
            "text/plain": [
              "    tahun wilayah_administrasi jenjang_pendidikan  perempuan  laki_laki\n",
              "0    2015     KEPULAUAN SERIBU                 SD      1.354      1.181\n",
              "1    2015        JAKARTA PUSAT                SMA      8.885      9.423\n",
              "2    2015        JAKARTA UTARA                SMA      9.836     11.990\n",
              "3    2015        JAKARTA PUSAT                SMK     11.507     12.230\n",
              "4    2015        JAKARTA BARAT                SMA     13.177     14.547\n",
              "5    2015        JAKARTA UTARA                SMK     14.447     12.574\n",
              "6    2015      JAKARTA SELATAN                SMA     17.011     19.539\n",
              "7    2015        JAKARTA PUSAT                SMP     20.153     20.454\n",
              "8    2015        JAKARTA BARAT                SMK     20.451     19.945\n",
              "9    2015        JAKARTA TIMUR                SMA     23.056     26.492\n",
              "10   2015      JAKARTA SELATAN                SMK     24.861     24.013\n",
              "11   2015        JAKARTA UTARA                SMP     28.819     28.976\n",
              "12   2015        JAKARTA TIMUR                SMK     31.551     29.813\n",
              "13   2015        JAKARTA BARAT                SMP     38.760     37.982\n",
              "14   2015        JAKARTA PUSAT                 SD     41.527     38.684\n",
              "15   2015      JAKARTA SELATAN                SMP     41.655     41.099\n",
              "16   2015        JAKARTA TIMUR                SMP     56.320     54.698\n",
              "17   2015        JAKARTA UTARA                 SD     69.419     64.644\n",
              "18   2015      JAKARTA SELATAN                 SD     89.702     82.205\n",
              "19   2015        JAKARTA BARAT                 SD     96.214     88.606\n",
              "20   2015        JAKARTA BARAT                SMK    102.234    112.948\n",
              "21   2015        JAKARTA TIMUR                 SD    129.432    120.161\n",
              "22   2015     KEPULAUAN SERIBU                SMK    111.000    126.000\n",
              "23   2015     KEPULAUAN SERIBU                SMA    238.000    246.000\n",
              "24   2015     KEPULAUAN SERIBU                SMP    508.000    589.000"
            ],
            "text/html": [
              "\n",
              "  <div id=\"df-f5fade4a-3db6-43e9-82bf-23cca373f68f\">\n",
              "    <div class=\"colab-df-container\">\n",
              "      <div>\n",
              "<style scoped>\n",
              "    .dataframe tbody tr th:only-of-type {\n",
              "        vertical-align: middle;\n",
              "    }\n",
              "\n",
              "    .dataframe tbody tr th {\n",
              "        vertical-align: top;\n",
              "    }\n",
              "\n",
              "    .dataframe thead th {\n",
              "        text-align: right;\n",
              "    }\n",
              "</style>\n",
              "<table border=\"1\" class=\"dataframe\">\n",
              "  <thead>\n",
              "    <tr style=\"text-align: right;\">\n",
              "      <th></th>\n",
              "      <th>tahun</th>\n",
              "      <th>wilayah_administrasi</th>\n",
              "      <th>jenjang_pendidikan</th>\n",
              "      <th>perempuan</th>\n",
              "      <th>laki_laki</th>\n",
              "    </tr>\n",
              "  </thead>\n",
              "  <tbody>\n",
              "    <tr>\n",
              "      <th>0</th>\n",
              "      <td>2015</td>\n",
              "      <td>KEPULAUAN SERIBU</td>\n",
              "      <td>SD</td>\n",
              "      <td>1.354</td>\n",
              "      <td>1.181</td>\n",
              "    </tr>\n",
              "    <tr>\n",
              "      <th>1</th>\n",
              "      <td>2015</td>\n",
              "      <td>JAKARTA PUSAT</td>\n",
              "      <td>SMA</td>\n",
              "      <td>8.885</td>\n",
              "      <td>9.423</td>\n",
              "    </tr>\n",
              "    <tr>\n",
              "      <th>2</th>\n",
              "      <td>2015</td>\n",
              "      <td>JAKARTA UTARA</td>\n",
              "      <td>SMA</td>\n",
              "      <td>9.836</td>\n",
              "      <td>11.990</td>\n",
              "    </tr>\n",
              "    <tr>\n",
              "      <th>3</th>\n",
              "      <td>2015</td>\n",
              "      <td>JAKARTA PUSAT</td>\n",
              "      <td>SMK</td>\n",
              "      <td>11.507</td>\n",
              "      <td>12.230</td>\n",
              "    </tr>\n",
              "    <tr>\n",
              "      <th>4</th>\n",
              "      <td>2015</td>\n",
              "      <td>JAKARTA BARAT</td>\n",
              "      <td>SMA</td>\n",
              "      <td>13.177</td>\n",
              "      <td>14.547</td>\n",
              "    </tr>\n",
              "    <tr>\n",
              "      <th>5</th>\n",
              "      <td>2015</td>\n",
              "      <td>JAKARTA UTARA</td>\n",
              "      <td>SMK</td>\n",
              "      <td>14.447</td>\n",
              "      <td>12.574</td>\n",
              "    </tr>\n",
              "    <tr>\n",
              "      <th>6</th>\n",
              "      <td>2015</td>\n",
              "      <td>JAKARTA SELATAN</td>\n",
              "      <td>SMA</td>\n",
              "      <td>17.011</td>\n",
              "      <td>19.539</td>\n",
              "    </tr>\n",
              "    <tr>\n",
              "      <th>7</th>\n",
              "      <td>2015</td>\n",
              "      <td>JAKARTA PUSAT</td>\n",
              "      <td>SMP</td>\n",
              "      <td>20.153</td>\n",
              "      <td>20.454</td>\n",
              "    </tr>\n",
              "    <tr>\n",
              "      <th>8</th>\n",
              "      <td>2015</td>\n",
              "      <td>JAKARTA BARAT</td>\n",
              "      <td>SMK</td>\n",
              "      <td>20.451</td>\n",
              "      <td>19.945</td>\n",
              "    </tr>\n",
              "    <tr>\n",
              "      <th>9</th>\n",
              "      <td>2015</td>\n",
              "      <td>JAKARTA TIMUR</td>\n",
              "      <td>SMA</td>\n",
              "      <td>23.056</td>\n",
              "      <td>26.492</td>\n",
              "    </tr>\n",
              "    <tr>\n",
              "      <th>10</th>\n",
              "      <td>2015</td>\n",
              "      <td>JAKARTA SELATAN</td>\n",
              "      <td>SMK</td>\n",
              "      <td>24.861</td>\n",
              "      <td>24.013</td>\n",
              "    </tr>\n",
              "    <tr>\n",
              "      <th>11</th>\n",
              "      <td>2015</td>\n",
              "      <td>JAKARTA UTARA</td>\n",
              "      <td>SMP</td>\n",
              "      <td>28.819</td>\n",
              "      <td>28.976</td>\n",
              "    </tr>\n",
              "    <tr>\n",
              "      <th>12</th>\n",
              "      <td>2015</td>\n",
              "      <td>JAKARTA TIMUR</td>\n",
              "      <td>SMK</td>\n",
              "      <td>31.551</td>\n",
              "      <td>29.813</td>\n",
              "    </tr>\n",
              "    <tr>\n",
              "      <th>13</th>\n",
              "      <td>2015</td>\n",
              "      <td>JAKARTA BARAT</td>\n",
              "      <td>SMP</td>\n",
              "      <td>38.760</td>\n",
              "      <td>37.982</td>\n",
              "    </tr>\n",
              "    <tr>\n",
              "      <th>14</th>\n",
              "      <td>2015</td>\n",
              "      <td>JAKARTA PUSAT</td>\n",
              "      <td>SD</td>\n",
              "      <td>41.527</td>\n",
              "      <td>38.684</td>\n",
              "    </tr>\n",
              "    <tr>\n",
              "      <th>15</th>\n",
              "      <td>2015</td>\n",
              "      <td>JAKARTA SELATAN</td>\n",
              "      <td>SMP</td>\n",
              "      <td>41.655</td>\n",
              "      <td>41.099</td>\n",
              "    </tr>\n",
              "    <tr>\n",
              "      <th>16</th>\n",
              "      <td>2015</td>\n",
              "      <td>JAKARTA TIMUR</td>\n",
              "      <td>SMP</td>\n",
              "      <td>56.320</td>\n",
              "      <td>54.698</td>\n",
              "    </tr>\n",
              "    <tr>\n",
              "      <th>17</th>\n",
              "      <td>2015</td>\n",
              "      <td>JAKARTA UTARA</td>\n",
              "      <td>SD</td>\n",
              "      <td>69.419</td>\n",
              "      <td>64.644</td>\n",
              "    </tr>\n",
              "    <tr>\n",
              "      <th>18</th>\n",
              "      <td>2015</td>\n",
              "      <td>JAKARTA SELATAN</td>\n",
              "      <td>SD</td>\n",
              "      <td>89.702</td>\n",
              "      <td>82.205</td>\n",
              "    </tr>\n",
              "    <tr>\n",
              "      <th>19</th>\n",
              "      <td>2015</td>\n",
              "      <td>JAKARTA BARAT</td>\n",
              "      <td>SD</td>\n",
              "      <td>96.214</td>\n",
              "      <td>88.606</td>\n",
              "    </tr>\n",
              "    <tr>\n",
              "      <th>20</th>\n",
              "      <td>2015</td>\n",
              "      <td>JAKARTA BARAT</td>\n",
              "      <td>SMK</td>\n",
              "      <td>102.234</td>\n",
              "      <td>112.948</td>\n",
              "    </tr>\n",
              "    <tr>\n",
              "      <th>21</th>\n",
              "      <td>2015</td>\n",
              "      <td>JAKARTA TIMUR</td>\n",
              "      <td>SD</td>\n",
              "      <td>129.432</td>\n",
              "      <td>120.161</td>\n",
              "    </tr>\n",
              "    <tr>\n",
              "      <th>22</th>\n",
              "      <td>2015</td>\n",
              "      <td>KEPULAUAN SERIBU</td>\n",
              "      <td>SMK</td>\n",
              "      <td>111.000</td>\n",
              "      <td>126.000</td>\n",
              "    </tr>\n",
              "    <tr>\n",
              "      <th>23</th>\n",
              "      <td>2015</td>\n",
              "      <td>KEPULAUAN SERIBU</td>\n",
              "      <td>SMA</td>\n",
              "      <td>238.000</td>\n",
              "      <td>246.000</td>\n",
              "    </tr>\n",
              "    <tr>\n",
              "      <th>24</th>\n",
              "      <td>2015</td>\n",
              "      <td>KEPULAUAN SERIBU</td>\n",
              "      <td>SMP</td>\n",
              "      <td>508.000</td>\n",
              "      <td>589.000</td>\n",
              "    </tr>\n",
              "  </tbody>\n",
              "</table>\n",
              "</div>\n",
              "      <button class=\"colab-df-convert\" onclick=\"convertToInteractive('df-f5fade4a-3db6-43e9-82bf-23cca373f68f')\"\n",
              "              title=\"Convert this dataframe to an interactive table.\"\n",
              "              style=\"display:none;\">\n",
              "        \n",
              "  <svg xmlns=\"http://www.w3.org/2000/svg\" height=\"24px\"viewBox=\"0 0 24 24\"\n",
              "       width=\"24px\">\n",
              "    <path d=\"M0 0h24v24H0V0z\" fill=\"none\"/>\n",
              "    <path d=\"M18.56 5.44l.94 2.06.94-2.06 2.06-.94-2.06-.94-.94-2.06-.94 2.06-2.06.94zm-11 1L8.5 8.5l.94-2.06 2.06-.94-2.06-.94L8.5 2.5l-.94 2.06-2.06.94zm10 10l.94 2.06.94-2.06 2.06-.94-2.06-.94-.94-2.06-.94 2.06-2.06.94z\"/><path d=\"M17.41 7.96l-1.37-1.37c-.4-.4-.92-.59-1.43-.59-.52 0-1.04.2-1.43.59L10.3 9.45l-7.72 7.72c-.78.78-.78 2.05 0 2.83L4 21.41c.39.39.9.59 1.41.59.51 0 1.02-.2 1.41-.59l7.78-7.78 2.81-2.81c.8-.78.8-2.07 0-2.86zM5.41 20L4 18.59l7.72-7.72 1.47 1.35L5.41 20z\"/>\n",
              "  </svg>\n",
              "      </button>\n",
              "      \n",
              "  <style>\n",
              "    .colab-df-container {\n",
              "      display:flex;\n",
              "      flex-wrap:wrap;\n",
              "      gap: 12px;\n",
              "    }\n",
              "\n",
              "    .colab-df-convert {\n",
              "      background-color: #E8F0FE;\n",
              "      border: none;\n",
              "      border-radius: 50%;\n",
              "      cursor: pointer;\n",
              "      display: none;\n",
              "      fill: #1967D2;\n",
              "      height: 32px;\n",
              "      padding: 0 0 0 0;\n",
              "      width: 32px;\n",
              "    }\n",
              "\n",
              "    .colab-df-convert:hover {\n",
              "      background-color: #E2EBFA;\n",
              "      box-shadow: 0px 1px 2px rgba(60, 64, 67, 0.3), 0px 1px 3px 1px rgba(60, 64, 67, 0.15);\n",
              "      fill: #174EA6;\n",
              "    }\n",
              "\n",
              "    [theme=dark] .colab-df-convert {\n",
              "      background-color: #3B4455;\n",
              "      fill: #D2E3FC;\n",
              "    }\n",
              "\n",
              "    [theme=dark] .colab-df-convert:hover {\n",
              "      background-color: #434B5C;\n",
              "      box-shadow: 0px 1px 3px 1px rgba(0, 0, 0, 0.15);\n",
              "      filter: drop-shadow(0px 1px 2px rgba(0, 0, 0, 0.3));\n",
              "      fill: #FFFFFF;\n",
              "    }\n",
              "  </style>\n",
              "\n",
              "      <script>\n",
              "        const buttonEl =\n",
              "          document.querySelector('#df-f5fade4a-3db6-43e9-82bf-23cca373f68f button.colab-df-convert');\n",
              "        buttonEl.style.display =\n",
              "          google.colab.kernel.accessAllowed ? 'block' : 'none';\n",
              "\n",
              "        async function convertToInteractive(key) {\n",
              "          const element = document.querySelector('#df-f5fade4a-3db6-43e9-82bf-23cca373f68f');\n",
              "          const dataTable =\n",
              "            await google.colab.kernel.invokeFunction('convertToInteractive',\n",
              "                                                     [key], {});\n",
              "          if (!dataTable) return;\n",
              "\n",
              "          const docLinkHtml = 'Like what you see? Visit the ' +\n",
              "            '<a target=\"_blank\" href=https://colab.research.google.com/notebooks/data_table.ipynb>data table notebook</a>'\n",
              "            + ' to learn more about interactive tables.';\n",
              "          element.innerHTML = '';\n",
              "          dataTable['output_type'] = 'display_data';\n",
              "          await google.colab.output.renderOutput(dataTable, element);\n",
              "          const docLink = document.createElement('div');\n",
              "          docLink.innerHTML = docLinkHtml;\n",
              "          element.appendChild(docLink);\n",
              "        }\n",
              "      </script>\n",
              "    </div>\n",
              "  </div>\n",
              "  "
            ]
          },
          "metadata": {},
          "execution_count": 5
        }
      ]
    },
    {
      "cell_type": "code",
      "source": [
        "import matplotlib.pyplot as plt \n",
        "\n",
        "df.plot(kind='scatter', x='perempuan', y='laki_laki') \n",
        "\n",
        "plt.title('indek kesejahteraan warga')\n",
        "plt.xlabel('X')\n",
        "plt.ylabel('y')\n",
        "plt.xlim(0, 300)\n",
        "plt.ylim(0, 300)\n",
        "plt.grid(True)\n",
        "plt.show()"
      ],
      "metadata": {
        "colab": {
          "base_uri": "https://localhost:8080/",
          "height": 295
        },
        "id": "vA2vDGYe5kpt",
        "outputId": "8c8c3c1d-d404-4947-88ae-f09753c9ab22"
      },
      "execution_count": 6,
      "outputs": [
        {
          "output_type": "display_data",
          "data": {
            "text/plain": [
              "<Figure size 432x288 with 1 Axes>"
            ],
            "image/png": "[encoded data removed]"
          },
          "metadata": {
            "needs_background": "light"
          }
        }
      ]
    },
    {
      "cell_type": "code",
      "source": [
        "import numpy as np\n",
        "x = np.array(df['perempuan'])\n",
        "y = np.array(df['laki_laki'])\n",
        "\n",
        "print(f'x : {x}')\n",
        "print(f'y : {y}')"
      ],
      "metadata": {
        "colab": {
          "base_uri": "https://localhost:8080/"
        },
        "id": "fblTH0Feyx5U",
        "outputId": "09299841-25d8-43b4-cfbf-5421c7673de4"
      },
      "execution_count": 7,
      "outputs": [
        {
          "output_type": "stream",
          "name": "stdout",
          "text": [
            "x : [  1.354   8.885   9.836  11.507  13.177  14.447  17.011  20.153  20.451\n",
            "  23.056  24.861  28.819  31.551  38.76   41.527  41.655  56.32   69.419\n",
            "  89.702  96.214 102.234 129.432 111.    238.    508.   ]\n",
            "y : [  1.181   9.423  11.99   12.23   14.547  12.574  19.539  20.454  19.945\n",
            "  26.492  24.013  28.976  29.813  37.982  38.684  41.099  54.698  64.644\n",
            "  82.205  88.606 112.948 120.161 126.    246.    589.   ]\n"
          ]
        }
      ]
    },
    {
      "cell_type": "code",
      "source": [
        "x = x.reshape(-1, 1)\n",
        "x.shape"
      ],
      "metadata": {
        "colab": {
          "base_uri": "https://localhost:8080/"
        },
        "id": "6NuuFqSKzBLH",
        "outputId": "7a15d000-6708-4236-bd51-2890ca74a032"
      },
      "execution_count": 8,
      "outputs": [
        {
          "output_type": "execute_result",
          "data": {
            "text/plain": [
              "(25, 1)"
            ]
          },
          "metadata": {},
          "execution_count": 8
        }
      ]
    },
    {
      "cell_type": "code",
      "source": [
        "x"
      ],
      "metadata": {
        "colab": {
          "base_uri": "https://localhost:8080/"
        },
        "id": "UN8vrG8RzEDh",
        "outputId": "51b56659-3afc-4d1c-aa98-fbb4c6883095"
      },
      "execution_count": 9,
      "outputs": [
        {
          "output_type": "execute_result",
          "data": {
            "text/plain": [
              "array([[  1.354],\n",
              "       [  8.885],\n",
              "       [  9.836],\n",
              "       [ 11.507],\n",
              "       [ 13.177],\n",
              "       [ 14.447],\n",
              "       [ 17.011],\n",
              "       [ 20.153],\n",
              "       [ 20.451],\n",
              "       [ 23.056],\n",
              "       [ 24.861],\n",
              "       [ 28.819],\n",
              "       [ 31.551],\n",
              "       [ 38.76 ],\n",
              "       [ 41.527],\n",
              "       [ 41.655],\n",
              "       [ 56.32 ],\n",
              "       [ 69.419],\n",
              "       [ 89.702],\n",
              "       [ 96.214],\n",
              "       [102.234],\n",
              "       [129.432],\n",
              "       [111.   ],\n",
              "       [238.   ],\n",
              "       [508.   ]])"
            ]
          },
          "metadata": {},
          "execution_count": 9
        }
      ]
    },
    {
      "cell_type": "code",
      "source": [
        "# training model\n",
        "from sklearn.linear_model import LinearRegression\n",
        "\n",
        "model = LinearRegression()\n",
        "model.fit(x, y) "
      ],
      "metadata": {
        "colab": {
          "base_uri": "https://localhost:8080/"
        },
        "id": "MvRCY8dqzHmv",
        "outputId": "b798232f-8b77-49ca-b031-f1bc7eacf75b"
      },
      "execution_count": 10,
      "outputs": [
        {
          "output_type": "execute_result",
          "data": {
            "text/plain": [
              "LinearRegression()"
            ]
          },
          "metadata": {},
          "execution_count": 10
        }
      ]
    },
    {
      "cell_type": "code",
      "source": [
        "x_vis = np.array([0, 400]).reshape(-1, 1)\n",
        "y_vis = model.predict(x_vis)"
      ],
      "metadata": {
        "id": "dlATfuZDzLSI"
      },
      "execution_count": 11,
      "outputs": []
    },
    {
      "cell_type": "code",
      "source": [
        "plt.scatter(x, y)\n",
        "plt.plot(x_vis, y_vis, '-r')\n",
        "plt.title('indeks kesejahteraan warga')\n",
        "plt.xlabel('X')\n",
        "plt.ylabel('y')\n",
        "plt.xlim(0, 250)\n",
        "plt.ylim(0, 250)\n",
        "plt.grid(True)\n",
        "plt.show()"
      ],
      "metadata": {
        "colab": {
          "base_uri": "https://localhost:8080/",
          "height": 295
        },
        "id": "_23sosvfzOTk",
        "outputId": "861cb410-eb9c-476d-c506-264dd97d8e55"
      },
      "execution_count": 12,
      "outputs": [
        {
          "output_type": "display_data",
          "data": {
            "text/plain": [
              "<Figure size 432x288 with 1 Axes>"
            ],
            "image/png": "[encoded data removed]"
          },
          "metadata": {
            "needs_background": "light"
          }
        }
      ]
    },
    {
      "cell_type": "code",
      "source": [
        "print(f'intercept : {model.intercept_}')\n",
        "print(f'slope : {model.coef_}')"
      ],
      "metadata": {
        "colab": {
          "base_uri": "https://localhost:8080/"
        },
        "id": "DKdUD9L7zbHS",
        "outputId": "5dbb06b1-ccfb-479b-bb48-aba9f488335f"
      },
      "execution_count": 13,
      "outputs": [
        {
          "output_type": "stream",
          "name": "stdout",
          "text": [
            "intercept : -6.165268278913572\n",
            "slope : [1.137329]\n"
          ]
        }
      ]
    },
    {
      "cell_type": "code",
      "source": [
        "perempuan = np.array([20, 30, 40, 50]).reshape(-1, 1)\n",
        "perempuan"
      ],
      "metadata": {
        "colab": {
          "base_uri": "https://localhost:8080/"
        },
        "id": "tkez0a9dzfL8",
        "outputId": "dbe17914-ff24-4b94-df5a-d4ca3444329f"
      },
      "execution_count": 14,
      "outputs": [
        {
          "output_type": "execute_result",
          "data": {
            "text/plain": [
              "array([[20],\n",
              "       [30],\n",
              "       [40],\n",
              "       [50]])"
            ]
          },
          "metadata": {},
          "execution_count": 14
        }
      ]
    },
    {
      "cell_type": "code",
      "source": [
        "prediksi_perempuan  = model.predict(perempuan)\n",
        "prediksi_perempuan"
      ],
      "metadata": {
        "colab": {
          "base_uri": "https://localhost:8080/"
        },
        "id": "0C3QpqnHzrK_",
        "outputId": "28276eca-0276-438c-b870-ef9e3d08b9f8"
      },
      "execution_count": 15,
      "outputs": [
        {
          "output_type": "execute_result",
          "data": {
            "text/plain": [
              "array([16.58131166, 27.95460163, 39.3278916 , 50.70118158])"
            ]
          },
          "metadata": {},
          "execution_count": 15
        }
      ]
    },
    {
      "cell_type": "code",
      "source": [
        "for penduduk, index in zip(perempuan, prediksi_perempuan):\n",
        "  print(f'luas panen: {penduduk} produksi : {index}')"
      ],
      "metadata": {
        "colab": {
          "base_uri": "https://localhost:8080/"
        },
        "id": "4lst1sZFz7Qd",
        "outputId": "58cf0270-5181-4d26-9014-3cbcff3971b3"
      },
      "execution_count": 16,
      "outputs": [
        {
          "output_type": "stream",
          "name": "stdout",
          "text": [
            "luas panen: [20] produksi : 16.581311662871418\n",
            "luas panen: [30] produksi : 27.954601633763914\n",
            "luas panen: [40] produksi : 39.32789160465641\n",
            "luas panen: [50] produksi : 50.7011815755489\n"
          ]
        }
      ]
    },
    {
      "cell_type": "code",
      "source": [
        "df['perempuan'].sum() "
      ],
      "metadata": {
        "colab": {
          "base_uri": "https://localhost:8080/"
        },
        "id": "hEhiIUKV0LuZ",
        "outputId": "5b5644f4-4e23-4d1e-e0ca-a477f2cd13a6"
      },
      "execution_count": 17,
      "outputs": [
        {
          "output_type": "execute_result",
          "data": {
            "text/plain": [
              "1747.371"
            ]
          },
          "metadata": {},
          "execution_count": 17
        }
      ]
    },
    {
      "cell_type": "code",
      "source": [
        "df['laki_laki'].sum()"
      ],
      "metadata": {
        "colab": {
          "base_uri": "https://localhost:8080/"
        },
        "id": "iA3FyWKq4egw",
        "outputId": "4c2a82d3-4a12-4e8e-8a3f-65a953dbea62"
      },
      "execution_count": 19,
      "outputs": [
        {
          "output_type": "execute_result",
          "data": {
            "text/plain": [
              "1833.204"
            ]
          },
          "metadata": {},
          "execution_count": 19
        }
      ]
    },
    {
      "cell_type": "code",
      "source": [
        "fig = plt.figure()\n",
        "ax = fig.add_axes([0,0,1,1])\n",
        "indeks = ['perempuan','laki_laki']\n",
        "jumlah = [1747.371, 1833.204]\n",
        "c = ['red','gray']\n",
        "plt.title(\"tabel\")\n",
        "plt.xlabel(\"index kesejahteraaan\")\n",
        "plt.ylabel(\"jumlah penduduk\")\n",
        "plt.bar(indeks, jumlah, color = c)\n",
        "plt.grid(True)\n",
        "plt.show "
      ],
      "metadata": {
        "colab": {
          "base_uri": "https://localhost:8080/",
          "height": 384
        },
        "id": "CtPX2WmKFoc3",
        "outputId": "1d2bb324-b984-470e-f3be-bef3fcacb886"
      },
      "execution_count": 3,
      "outputs": [
        {
          "output_type": "execute_result",
          "data": {
            "text/plain": [
              "<function matplotlib.pyplot.show(*args, **kw)>"
            ]
          },
          "metadata": {},
          "execution_count": 3
        },
        {
          "output_type": "display_data",
          "data": {
            "text/plain": [
              "<Figure size 432x288 with 1 Axes>"
            ],
            "image/png": "[encoded data removed]"
          },
          "metadata": {
            "needs_background": "light"
          }
        }
      ]
    },
    {
      "cell_type": "code",
      "source": [
        "# PIECART\n",
        "fig = plt.figure()\n",
        "ax = fig.add_axes([0,0,1,1])\n",
        "ax.axis('equal')\n",
        "plt.title(\"pajak dan hutang\")\n",
        "indeks = ['perempuan','laki_laki']\n",
        "jumlah = [1747.371, 1833.204]\n",
        "ax.pie(jumlah,labels=indeks,autopct='%1.2f%%')\n",
        "plt.show()\n",
        "print()\n",
        "\n"
      ],
      "metadata": {
        "colab": {
          "base_uri": "https://localhost:8080/",
          "height": 352
        },
        "id": "BR806_3KF4qQ",
        "outputId": "74ec9bfb-871e-4ead-ff01-5d4453891f90"
      },
      "execution_count": 3,
      "outputs": [
        {
          "output_type": "display_data",
          "data": {
            "text/plain": [
              "<Figure size 432x288 with 1 Axes>"
            ],
            "image/png": "[encoded data removed]"
          },
          "metadata": {}
        },
        {
          "output_type": "stream",
          "name": "stdout",
          "text": [
            "\n"
          ]
        }
      ]
    }
  ]
}