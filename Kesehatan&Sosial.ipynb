{
  "nbformat": 4,
  "nbformat_minor": 0,
  "metadata": {
    "colab": {
      "provenance": []
    },
    "kernelspec": {
      "name": "python3",
      "display_name": "Python 3"
    },
    "language_info": {
      "name": "python"
    }
  },
  "cells": [
    {
      "cell_type": "code",
      "execution_count": 3,
      "metadata": {
        "colab": {
          "base_uri": "https://localhost:8080/"
        },
        "id": "hRZECgLvX2sv",
        "outputId": "bf3a16d2-26a3-416b-b7cc-fe7514af02b3"
      },
      "outputs": [
        {
          "output_type": "stream",
          "name": "stdout",
          "text": [
            "Mounted at /content/drive\n"
          ]
        }
      ],
      "source": [
        "import statistics\n",
        "import pandas as pd\n",
        "import numpy as np\n",
        "from scipy import stats\n",
        "\n",
        "import matplotlib.pyplot as plt\n",
        "\n",
        "from google.colab import drive \n",
        "drive.mount('/content/drive')"
      ]
    },
    {
      "cell_type": "code",
      "source": [
        "import pandas as pd \n",
        "\n",
        "path ='/content/drive/MyDrive/CVS/data_fasilitas_kesehatan..csv' \n",
        "df = pd.read_csv(path) \n",
        "\n",
        "df.describe() "
      ],
      "metadata": {
        "colab": {
          "base_uri": "https://localhost:8080/",
          "height": 300
        },
        "id": "1TfEIR0Rh83w",
        "outputId": "a6fc8f00-9fe8-4166-9f9c-e974b1ad10ef"
      },
      "execution_count": 4,
      "outputs": [
        {
          "output_type": "execute_result",
          "data": {
            "text/plain": [
              "        tahun  bulan  jumlah_yang_ada  jumlah_yang_dilaporkan\n",
              "count    26.0   26.0        26.000000               26.000000\n",
              "mean   2018.0    1.0       168.576923              167.461538\n",
              "std       0.0    0.0       180.014705              169.511352\n",
              "min    2018.0    1.0         1.000000                1.000000\n",
              "25%    2018.0    1.0        39.750000               36.000000\n",
              "50%    2018.0    1.0        84.500000              105.500000\n",
              "75%    2018.0    1.0       224.500000              221.750000\n",
              "max    2018.0    1.0       587.000000              587.000000"
            ],
            "text/html": [
              "\n",
              "  <div id=\"df-9f88d4cc-3e48-408a-9c8d-fcc3b3e31414\">\n",
              "    <div class=\"colab-df-container\">\n",
              "      <div>\n",
              "<style scoped>\n",
              "    .dataframe tbody tr th:only-of-type {\n",
              "        vertical-align: middle;\n",
              "    }\n",
              "\n",
              "    .dataframe tbody tr th {\n",
              "        vertical-align: top;\n",
              "    }\n",
              "\n",
              "    .dataframe thead th {\n",
              "        text-align: right;\n",
              "    }\n",
              "</style>\n",
              "<table border=\"1\" class=\"dataframe\">\n",
              "  <thead>\n",
              "    <tr style=\"text-align: right;\">\n",
              "      <th></th>\n",
              "      <th>tahun</th>\n",
              "      <th>bulan</th>\n",
              "      <th>jumlah_yang_ada</th>\n",
              "      <th>jumlah_yang_dilaporkan</th>\n",
              "    </tr>\n",
              "  </thead>\n",
              "  <tbody>\n",
              "    <tr>\n",
              "      <th>count</th>\n",
              "      <td>26.0</td>\n",
              "      <td>26.0</td>\n",
              "      <td>26.000000</td>\n",
              "      <td>26.000000</td>\n",
              "    </tr>\n",
              "    <tr>\n",
              "      <th>mean</th>\n",
              "      <td>2018.0</td>\n",
              "      <td>1.0</td>\n",
              "      <td>168.576923</td>\n",
              "      <td>167.461538</td>\n",
              "    </tr>\n",
              "    <tr>\n",
              "      <th>std</th>\n",
              "      <td>0.0</td>\n",
              "      <td>0.0</td>\n",
              "      <td>180.014705</td>\n",
              "      <td>169.511352</td>\n",
              "    </tr>\n",
              "    <tr>\n",
              "      <th>min</th>\n",
              "      <td>2018.0</td>\n",
              "      <td>1.0</td>\n",
              "      <td>1.000000</td>\n",
              "      <td>1.000000</td>\n",
              "    </tr>\n",
              "    <tr>\n",
              "      <th>25%</th>\n",
              "      <td>2018.0</td>\n",
              "      <td>1.0</td>\n",
              "      <td>39.750000</td>\n",
              "      <td>36.000000</td>\n",
              "    </tr>\n",
              "    <tr>\n",
              "      <th>50%</th>\n",
              "      <td>2018.0</td>\n",
              "      <td>1.0</td>\n",
              "      <td>84.500000</td>\n",
              "      <td>105.500000</td>\n",
              "    </tr>\n",
              "    <tr>\n",
              "      <th>75%</th>\n",
              "      <td>2018.0</td>\n",
              "      <td>1.0</td>\n",
              "      <td>224.500000</td>\n",
              "      <td>221.750000</td>\n",
              "    </tr>\n",
              "    <tr>\n",
              "      <th>max</th>\n",
              "      <td>2018.0</td>\n",
              "      <td>1.0</td>\n",
              "      <td>587.000000</td>\n",
              "      <td>587.000000</td>\n",
              "    </tr>\n",
              "  </tbody>\n",
              "</table>\n",
              "</div>\n",
              "      <button class=\"colab-df-convert\" onclick=\"convertToInteractive('df-9f88d4cc-3e48-408a-9c8d-fcc3b3e31414')\"\n",
              "              title=\"Convert this dataframe to an interactive table.\"\n",
              "              style=\"display:none;\">\n",
              "        \n",
              "  <svg xmlns=\"http://www.w3.org/2000/svg\" height=\"24px\"viewBox=\"0 0 24 24\"\n",
              "       width=\"24px\">\n",
              "    <path d=\"M0 0h24v24H0V0z\" fill=\"none\"/>\n",
              "    <path d=\"M18.56 5.44l.94 2.06.94-2.06 2.06-.94-2.06-.94-.94-2.06-.94 2.06-2.06.94zm-11 1L8.5 8.5l.94-2.06 2.06-.94-2.06-.94L8.5 2.5l-.94 2.06-2.06.94zm10 10l.94 2.06.94-2.06 2.06-.94-2.06-.94-.94-2.06-.94 2.06-2.06.94z\"/><path d=\"M17.41 7.96l-1.37-1.37c-.4-.4-.92-.59-1.43-.59-.52 0-1.04.2-1.43.59L10.3 9.45l-7.72 7.72c-.78.78-.78 2.05 0 2.83L4 21.41c.39.39.9.59 1.41.59.51 0 1.02-.2 1.41-.59l7.78-7.78 2.81-2.81c.8-.78.8-2.07 0-2.86zM5.41 20L4 18.59l7.72-7.72 1.47 1.35L5.41 20z\"/>\n",
              "  </svg>\n",
              "      </button>\n",
              "      \n",
              "  <style>\n",
              "    .colab-df-container {\n",
              "      display:flex;\n",
              "      flex-wrap:wrap;\n",
              "      gap: 12px;\n",
              "    }\n",
              "\n",
              "    .colab-df-convert {\n",
              "      background-color: #E8F0FE;\n",
              "      border: none;\n",
              "      border-radius: 50%;\n",
              "      cursor: pointer;\n",
              "      display: none;\n",
              "      fill: #1967D2;\n",
              "      height: 32px;\n",
              "      padding: 0 0 0 0;\n",
              "      width: 32px;\n",
              "    }\n",
              "\n",
              "    .colab-df-convert:hover {\n",
              "      background-color: #E2EBFA;\n",
              "      box-shadow: 0px 1px 2px rgba(60, 64, 67, 0.3), 0px 1px 3px 1px rgba(60, 64, 67, 0.15);\n",
              "      fill: #174EA6;\n",
              "    }\n",
              "\n",
              "    [theme=dark] .colab-df-convert {\n",
              "      background-color: #3B4455;\n",
              "      fill: #D2E3FC;\n",
              "    }\n",
              "\n",
              "    [theme=dark] .colab-df-convert:hover {\n",
              "      background-color: #434B5C;\n",
              "      box-shadow: 0px 1px 3px 1px rgba(0, 0, 0, 0.15);\n",
              "      filter: drop-shadow(0px 1px 2px rgba(0, 0, 0, 0.3));\n",
              "      fill: #FFFFFF;\n",
              "    }\n",
              "  </style>\n",
              "\n",
              "      <script>\n",
              "        const buttonEl =\n",
              "          document.querySelector('#df-9f88d4cc-3e48-408a-9c8d-fcc3b3e31414 button.colab-df-convert');\n",
              "        buttonEl.style.display =\n",
              "          google.colab.kernel.accessAllowed ? 'block' : 'none';\n",
              "\n",
              "        async function convertToInteractive(key) {\n",
              "          const element = document.querySelector('#df-9f88d4cc-3e48-408a-9c8d-fcc3b3e31414');\n",
              "          const dataTable =\n",
              "            await google.colab.kernel.invokeFunction('convertToInteractive',\n",
              "                                                     [key], {});\n",
              "          if (!dataTable) return;\n",
              "\n",
              "          const docLinkHtml = 'Like what you see? Visit the ' +\n",
              "            '<a target=\"_blank\" href=https://colab.research.google.com/notebooks/data_table.ipynb>data table notebook</a>'\n",
              "            + ' to learn more about interactive tables.';\n",
              "          element.innerHTML = '';\n",
              "          dataTable['output_type'] = 'display_data';\n",
              "          await google.colab.output.renderOutput(dataTable, element);\n",
              "          const docLink = document.createElement('div');\n",
              "          docLink.innerHTML = docLinkHtml;\n",
              "          element.appendChild(docLink);\n",
              "        }\n",
              "      </script>\n",
              "    </div>\n",
              "  </div>\n",
              "  "
            ]
          },
          "metadata": {},
          "execution_count": 4
        }
      ]
    },
    {
      "cell_type": "code",
      "source": [
        "df"
      ],
      "metadata": {
        "colab": {
          "base_uri": "https://localhost:8080/",
          "height": 864
        },
        "id": "Q1H4KoQhiBeU",
        "outputId": "80c46c57-2e02-484d-96f0-c1260139dbc8"
      },
      "execution_count": 5,
      "outputs": [
        {
          "output_type": "execute_result",
          "data": {
            "text/plain": [
              "    tahun  bulan           wilayah             jenis_fasilitas_kesehatan_kb  \\\n",
              "0    2018      1     Jakarta Barat  Jejaring Fasilitas Kesehatan KB Lainnya   \n",
              "1    2018      1   Jakarta Selatan  Jejaring Fasilitas Kesehatan KB Lainnya   \n",
              "2    2018      1     Jakarta Pusat            Fasilitas Kesehatan KB Swasta   \n",
              "3    2018      1     Jakarta Barat            Fasilitas Kesehatan KB Swasta   \n",
              "4    2018      1   Jakarta Selatan            Fasilitas Kesehatan KB Swasta   \n",
              "5    2018      1     Jakarta Timur            Fasilitas Kesehatan KB Swasta   \n",
              "6    2018      1     Jakarta Timur                           Praktek Dokter   \n",
              "7    2018      1     Jakarta Utara        Fasilitas Kesehatan KB Pemerintah   \n",
              "8    2018      1     Jakarta Pusat                           Praktek Dokter   \n",
              "9    2018      1     Jakarta Pusat        Fasilitas Kesehatan KB Pemerintah   \n",
              "10   2018      1     Jakarta Utara                           Praktek Dokter   \n",
              "11   2018      1     Jakarta Barat        Fasilitas Kesehatan KB Pemerintah   \n",
              "12   2018      1   Jakarta Selatan                           Praktek Dokter   \n",
              "13   2018      1     Jakarta Pusat                    Praktek Bidan Mandiri   \n",
              "14   2018      1   Jakarta Selatan        Fasilitas Kesehatan KB Pemerintah   \n",
              "15   2018      1     Jakarta Timur        Fasilitas Kesehatan KB Pemerintah   \n",
              "16   2018      1     Jakarta Barat                           Praktek Dokter   \n",
              "17   2018      1     Jakarta Utara                    Praktek Bidan Mandiri   \n",
              "18   2018      1   Jakarta Selatan                    Praktek Bidan Mandiri   \n",
              "19   2018      1     Jakarta Barat                    Praktek Bidan Mandiri   \n",
              "20   2018      1     Jakarta Timur                    Praktek Bidan Mandiri   \n",
              "21   2018      1  Kepulauan Seribu        Fasilitas Kesehatan KB Pemerintah   \n",
              "22   2018      1  Kepulauan Seribu            Fasilitas Kesehatan KB Swasta   \n",
              "23   2018      1  Kepulauan Seribu                           Praktek Dokter   \n",
              "24   2018      1  Kepulauan Seribu                    Praktek Bidan Mandiri   \n",
              "25   2018      1  Kepulauan Seribu  Jejaring Fasilitas Kesehatan KB Lainnya   \n",
              "\n",
              "    jumlah_yang_ada  jumlah_yang_dilaporkan  \n",
              "0                 1                       1  \n",
              "1                 3                       3  \n",
              "2                15                      14  \n",
              "3                22                      17  \n",
              "4                28                      28  \n",
              "5                30                      30  \n",
              "6                35                      29  \n",
              "7                54                      54  \n",
              "8                64                     150  \n",
              "9                74                      74  \n",
              "10               75                      75  \n",
              "11               82                      81  \n",
              "12               83                      83  \n",
              "13               86                     183  \n",
              "14              104                     104  \n",
              "15              106                     107  \n",
              "16              113                     112  \n",
              "17              180                     212  \n",
              "18              181                     181  \n",
              "19              239                     225  \n",
              "20              361                     311  \n",
              "21              393                     299  \n",
              "22              454                     354  \n",
              "23              489                     497  \n",
              "24              524                     543  \n",
              "25              587                     587  "
            ],
            "text/html": [
              "\n",
              "  <div id=\"df-2992d81c-7942-486b-be66-e397e06fdb29\">\n",
              "    <div class=\"colab-df-container\">\n",
              "      <div>\n",
              "<style scoped>\n",
              "    .dataframe tbody tr th:only-of-type {\n",
              "        vertical-align: middle;\n",
              "    }\n",
              "\n",
              "    .dataframe tbody tr th {\n",
              "        vertical-align: top;\n",
              "    }\n",
              "\n",
              "    .dataframe thead th {\n",
              "        text-align: right;\n",
              "    }\n",
              "</style>\n",
              "<table border=\"1\" class=\"dataframe\">\n",
              "  <thead>\n",
              "    <tr style=\"text-align: right;\">\n",
              "      <th></th>\n",
              "      <th>tahun</th>\n",
              "      <th>bulan</th>\n",
              "      <th>wilayah</th>\n",
              "      <th>jenis_fasilitas_kesehatan_kb</th>\n",
              "      <th>jumlah_yang_ada</th>\n",
              "      <th>jumlah_yang_dilaporkan</th>\n",
              "    </tr>\n",
              "  </thead>\n",
              "  <tbody>\n",
              "    <tr>\n",
              "      <th>0</th>\n",
              "      <td>2018</td>\n",
              "      <td>1</td>\n",
              "      <td>Jakarta Barat</td>\n",
              "      <td>Jejaring Fasilitas Kesehatan KB Lainnya</td>\n",
              "      <td>1</td>\n",
              "      <td>1</td>\n",
              "    </tr>\n",
              "    <tr>\n",
              "      <th>1</th>\n",
              "      <td>2018</td>\n",
              "      <td>1</td>\n",
              "      <td>Jakarta Selatan</td>\n",
              "      <td>Jejaring Fasilitas Kesehatan KB Lainnya</td>\n",
              "      <td>3</td>\n",
              "      <td>3</td>\n",
              "    </tr>\n",
              "    <tr>\n",
              "      <th>2</th>\n",
              "      <td>2018</td>\n",
              "      <td>1</td>\n",
              "      <td>Jakarta Pusat</td>\n",
              "      <td>Fasilitas Kesehatan KB Swasta</td>\n",
              "      <td>15</td>\n",
              "      <td>14</td>\n",
              "    </tr>\n",
              "    <tr>\n",
              "      <th>3</th>\n",
              "      <td>2018</td>\n",
              "      <td>1</td>\n",
              "      <td>Jakarta Barat</td>\n",
              "      <td>Fasilitas Kesehatan KB Swasta</td>\n",
              "      <td>22</td>\n",
              "      <td>17</td>\n",
              "    </tr>\n",
              "    <tr>\n",
              "      <th>4</th>\n",
              "      <td>2018</td>\n",
              "      <td>1</td>\n",
              "      <td>Jakarta Selatan</td>\n",
              "      <td>Fasilitas Kesehatan KB Swasta</td>\n",
              "      <td>28</td>\n",
              "      <td>28</td>\n",
              "    </tr>\n",
              "    <tr>\n",
              "      <th>5</th>\n",
              "      <td>2018</td>\n",
              "      <td>1</td>\n",
              "      <td>Jakarta Timur</td>\n",
              "      <td>Fasilitas Kesehatan KB Swasta</td>\n",
              "      <td>30</td>\n",
              "      <td>30</td>\n",
              "    </tr>\n",
              "    <tr>\n",
              "      <th>6</th>\n",
              "      <td>2018</td>\n",
              "      <td>1</td>\n",
              "      <td>Jakarta Timur</td>\n",
              "      <td>Praktek Dokter</td>\n",
              "      <td>35</td>\n",
              "      <td>29</td>\n",
              "    </tr>\n",
              "    <tr>\n",
              "      <th>7</th>\n",
              "      <td>2018</td>\n",
              "      <td>1</td>\n",
              "      <td>Jakarta Utara</td>\n",
              "      <td>Fasilitas Kesehatan KB Pemerintah</td>\n",
              "      <td>54</td>\n",
              "      <td>54</td>\n",
              "    </tr>\n",
              "    <tr>\n",
              "      <th>8</th>\n",
              "      <td>2018</td>\n",
              "      <td>1</td>\n",
              "      <td>Jakarta Pusat</td>\n",
              "      <td>Praktek Dokter</td>\n",
              "      <td>64</td>\n",
              "      <td>150</td>\n",
              "    </tr>\n",
              "    <tr>\n",
              "      <th>9</th>\n",
              "      <td>2018</td>\n",
              "      <td>1</td>\n",
              "      <td>Jakarta Pusat</td>\n",
              "      <td>Fasilitas Kesehatan KB Pemerintah</td>\n",
              "      <td>74</td>\n",
              "      <td>74</td>\n",
              "    </tr>\n",
              "    <tr>\n",
              "      <th>10</th>\n",
              "      <td>2018</td>\n",
              "      <td>1</td>\n",
              "      <td>Jakarta Utara</td>\n",
              "      <td>Praktek Dokter</td>\n",
              "      <td>75</td>\n",
              "      <td>75</td>\n",
              "    </tr>\n",
              "    <tr>\n",
              "      <th>11</th>\n",
              "      <td>2018</td>\n",
              "      <td>1</td>\n",
              "      <td>Jakarta Barat</td>\n",
              "      <td>Fasilitas Kesehatan KB Pemerintah</td>\n",
              "      <td>82</td>\n",
              "      <td>81</td>\n",
              "    </tr>\n",
              "    <tr>\n",
              "      <th>12</th>\n",
              "      <td>2018</td>\n",
              "      <td>1</td>\n",
              "      <td>Jakarta Selatan</td>\n",
              "      <td>Praktek Dokter</td>\n",
              "      <td>83</td>\n",
              "      <td>83</td>\n",
              "    </tr>\n",
              "    <tr>\n",
              "      <th>13</th>\n",
              "      <td>2018</td>\n",
              "      <td>1</td>\n",
              "      <td>Jakarta Pusat</td>\n",
              "      <td>Praktek Bidan Mandiri</td>\n",
              "      <td>86</td>\n",
              "      <td>183</td>\n",
              "    </tr>\n",
              "    <tr>\n",
              "      <th>14</th>\n",
              "      <td>2018</td>\n",
              "      <td>1</td>\n",
              "      <td>Jakarta Selatan</td>\n",
              "      <td>Fasilitas Kesehatan KB Pemerintah</td>\n",
              "      <td>104</td>\n",
              "      <td>104</td>\n",
              "    </tr>\n",
              "    <tr>\n",
              "      <th>15</th>\n",
              "      <td>2018</td>\n",
              "      <td>1</td>\n",
              "      <td>Jakarta Timur</td>\n",
              "      <td>Fasilitas Kesehatan KB Pemerintah</td>\n",
              "      <td>106</td>\n",
              "      <td>107</td>\n",
              "    </tr>\n",
              "    <tr>\n",
              "      <th>16</th>\n",
              "      <td>2018</td>\n",
              "      <td>1</td>\n",
              "      <td>Jakarta Barat</td>\n",
              "      <td>Praktek Dokter</td>\n",
              "      <td>113</td>\n",
              "      <td>112</td>\n",
              "    </tr>\n",
              "    <tr>\n",
              "      <th>17</th>\n",
              "      <td>2018</td>\n",
              "      <td>1</td>\n",
              "      <td>Jakarta Utara</td>\n",
              "      <td>Praktek Bidan Mandiri</td>\n",
              "      <td>180</td>\n",
              "      <td>212</td>\n",
              "    </tr>\n",
              "    <tr>\n",
              "      <th>18</th>\n",
              "      <td>2018</td>\n",
              "      <td>1</td>\n",
              "      <td>Jakarta Selatan</td>\n",
              "      <td>Praktek Bidan Mandiri</td>\n",
              "      <td>181</td>\n",
              "      <td>181</td>\n",
              "    </tr>\n",
              "    <tr>\n",
              "      <th>19</th>\n",
              "      <td>2018</td>\n",
              "      <td>1</td>\n",
              "      <td>Jakarta Barat</td>\n",
              "      <td>Praktek Bidan Mandiri</td>\n",
              "      <td>239</td>\n",
              "      <td>225</td>\n",
              "    </tr>\n",
              "    <tr>\n",
              "      <th>20</th>\n",
              "      <td>2018</td>\n",
              "      <td>1</td>\n",
              "      <td>Jakarta Timur</td>\n",
              "      <td>Praktek Bidan Mandiri</td>\n",
              "      <td>361</td>\n",
              "      <td>311</td>\n",
              "    </tr>\n",
              "    <tr>\n",
              "      <th>21</th>\n",
              "      <td>2018</td>\n",
              "      <td>1</td>\n",
              "      <td>Kepulauan Seribu</td>\n",
              "      <td>Fasilitas Kesehatan KB Pemerintah</td>\n",
              "      <td>393</td>\n",
              "      <td>299</td>\n",
              "    </tr>\n",
              "    <tr>\n",
              "      <th>22</th>\n",
              "      <td>2018</td>\n",
              "      <td>1</td>\n",
              "      <td>Kepulauan Seribu</td>\n",
              "      <td>Fasilitas Kesehatan KB Swasta</td>\n",
              "      <td>454</td>\n",
              "      <td>354</td>\n",
              "    </tr>\n",
              "    <tr>\n",
              "      <th>23</th>\n",
              "      <td>2018</td>\n",
              "      <td>1</td>\n",
              "      <td>Kepulauan Seribu</td>\n",
              "      <td>Praktek Dokter</td>\n",
              "      <td>489</td>\n",
              "      <td>497</td>\n",
              "    </tr>\n",
              "    <tr>\n",
              "      <th>24</th>\n",
              "      <td>2018</td>\n",
              "      <td>1</td>\n",
              "      <td>Kepulauan Seribu</td>\n",
              "      <td>Praktek Bidan Mandiri</td>\n",
              "      <td>524</td>\n",
              "      <td>543</td>\n",
              "    </tr>\n",
              "    <tr>\n",
              "      <th>25</th>\n",
              "      <td>2018</td>\n",
              "      <td>1</td>\n",
              "      <td>Kepulauan Seribu</td>\n",
              "      <td>Jejaring Fasilitas Kesehatan KB Lainnya</td>\n",
              "      <td>587</td>\n",
              "      <td>587</td>\n",
              "    </tr>\n",
              "  </tbody>\n",
              "</table>\n",
              "</div>\n",
              "      <button class=\"colab-df-convert\" onclick=\"convertToInteractive('df-2992d81c-7942-486b-be66-e397e06fdb29')\"\n",
              "              title=\"Convert this dataframe to an interactive table.\"\n",
              "              style=\"display:none;\">\n",
              "        \n",
              "  <svg xmlns=\"http://www.w3.org/2000/svg\" height=\"24px\"viewBox=\"0 0 24 24\"\n",
              "       width=\"24px\">\n",
              "    <path d=\"M0 0h24v24H0V0z\" fill=\"none\"/>\n",
              "    <path d=\"M18.56 5.44l.94 2.06.94-2.06 2.06-.94-2.06-.94-.94-2.06-.94 2.06-2.06.94zm-11 1L8.5 8.5l.94-2.06 2.06-.94-2.06-.94L8.5 2.5l-.94 2.06-2.06.94zm10 10l.94 2.06.94-2.06 2.06-.94-2.06-.94-.94-2.06-.94 2.06-2.06.94z\"/><path d=\"M17.41 7.96l-1.37-1.37c-.4-.4-.92-.59-1.43-.59-.52 0-1.04.2-1.43.59L10.3 9.45l-7.72 7.72c-.78.78-.78 2.05 0 2.83L4 21.41c.39.39.9.59 1.41.59.51 0 1.02-.2 1.41-.59l7.78-7.78 2.81-2.81c.8-.78.8-2.07 0-2.86zM5.41 20L4 18.59l7.72-7.72 1.47 1.35L5.41 20z\"/>\n",
              "  </svg>\n",
              "      </button>\n",
              "      \n",
              "  <style>\n",
              "    .colab-df-container {\n",
              "      display:flex;\n",
              "      flex-wrap:wrap;\n",
              "      gap: 12px;\n",
              "    }\n",
              "\n",
              "    .colab-df-convert {\n",
              "      background-color: #E8F0FE;\n",
              "      border: none;\n",
              "      border-radius: 50%;\n",
              "      cursor: pointer;\n",
              "      display: none;\n",
              "      fill: #1967D2;\n",
              "      height: 32px;\n",
              "      padding: 0 0 0 0;\n",
              "      width: 32px;\n",
              "    }\n",
              "\n",
              "    .colab-df-convert:hover {\n",
              "      background-color: #E2EBFA;\n",
              "      box-shadow: 0px 1px 2px rgba(60, 64, 67, 0.3), 0px 1px 3px 1px rgba(60, 64, 67, 0.15);\n",
              "      fill: #174EA6;\n",
              "    }\n",
              "\n",
              "    [theme=dark] .colab-df-convert {\n",
              "      background-color: #3B4455;\n",
              "      fill: #D2E3FC;\n",
              "    }\n",
              "\n",
              "    [theme=dark] .colab-df-convert:hover {\n",
              "      background-color: #434B5C;\n",
              "      box-shadow: 0px 1px 3px 1px rgba(0, 0, 0, 0.15);\n",
              "      filter: drop-shadow(0px 1px 2px rgba(0, 0, 0, 0.3));\n",
              "      fill: #FFFFFF;\n",
              "    }\n",
              "  </style>\n",
              "\n",
              "      <script>\n",
              "        const buttonEl =\n",
              "          document.querySelector('#df-2992d81c-7942-486b-be66-e397e06fdb29 button.colab-df-convert');\n",
              "        buttonEl.style.display =\n",
              "          google.colab.kernel.accessAllowed ? 'block' : 'none';\n",
              "\n",
              "        async function convertToInteractive(key) {\n",
              "          const element = document.querySelector('#df-2992d81c-7942-486b-be66-e397e06fdb29');\n",
              "          const dataTable =\n",
              "            await google.colab.kernel.invokeFunction('convertToInteractive',\n",
              "                                                     [key], {});\n",
              "          if (!dataTable) return;\n",
              "\n",
              "          const docLinkHtml = 'Like what you see? Visit the ' +\n",
              "            '<a target=\"_blank\" href=https://colab.research.google.com/notebooks/data_table.ipynb>data table notebook</a>'\n",
              "            + ' to learn more about interactive tables.';\n",
              "          element.innerHTML = '';\n",
              "          dataTable['output_type'] = 'display_data';\n",
              "          await google.colab.output.renderOutput(dataTable, element);\n",
              "          const docLink = document.createElement('div');\n",
              "          docLink.innerHTML = docLinkHtml;\n",
              "          element.appendChild(docLink);\n",
              "        }\n",
              "      </script>\n",
              "    </div>\n",
              "  </div>\n",
              "  "
            ]
          },
          "metadata": {},
          "execution_count": 5
        }
      ]
    },
    {
      "cell_type": "code",
      "source": [
        "import matplotlib.pyplot as plt \n",
        "\n",
        "df.plot(kind='scatter', x='jumlah_yang_ada', y='jumlah_yang_dilaporkan') \n",
        "\n",
        "plt.title('indek kesejahteraan warga')\n",
        "plt.xlabel('X')\n",
        "plt.ylabel('y')\n",
        "plt.xlim(0, 750)\n",
        "plt.ylim(0, 750)\n",
        "plt.grid(True)\n",
        "plt.show()"
      ],
      "metadata": {
        "colab": {
          "base_uri": "https://localhost:8080/",
          "height": 295
        },
        "id": "ZadmSxdyiXEO",
        "outputId": "5ebb1292-01fa-4b5d-8003-00ccaece5d7f"
      },
      "execution_count": 6,
      "outputs": [
        {
          "output_type": "display_data",
          "data": {
            "text/plain": [
              "<Figure size 432x288 with 1 Axes>"
            ],
            "image/png": "[encoded data removed]"
          },
          "metadata": {
            "needs_background": "light"
          }
        }
      ]
    },
    {
      "cell_type": "code",
      "source": [
        "import numpy as np\n",
        "x = np.array(df['jumlah_yang_ada'])\n",
        "y = np.array(df['jumlah_yang_dilaporkan'])\n",
        "\n",
        "print(f'x : {x}')\n",
        "print(f'y : {y}')"
      ],
      "metadata": {
        "colab": {
          "base_uri": "https://localhost:8080/"
        },
        "id": "atVwWJ62iwPa",
        "outputId": "db5a88bf-cc7b-4681-da09-c2f66c86c325"
      },
      "execution_count": 7,
      "outputs": [
        {
          "output_type": "stream",
          "name": "stdout",
          "text": [
            "x : [  1   3  15  22  28  30  35  54  64  74  75  82  83  86 104 106 113 180\n",
            " 181 239 361 393 454 489 524 587]\n",
            "y : [  1   3  14  17  28  30  29  54 150  74  75  81  83 183 104 107 112 212\n",
            " 181 225 311 299 354 497 543 587]\n"
          ]
        }
      ]
    },
    {
      "cell_type": "code",
      "source": [
        "x = x.reshape(-1, 1)\n",
        "x.shape"
      ],
      "metadata": {
        "colab": {
          "base_uri": "https://localhost:8080/"
        },
        "id": "SB7f0Fkxi59t",
        "outputId": "71dacd02-0472-4105-834f-83c87982d0a1"
      },
      "execution_count": 8,
      "outputs": [
        {
          "output_type": "execute_result",
          "data": {
            "text/plain": [
              "(26, 1)"
            ]
          },
          "metadata": {},
          "execution_count": 8
        }
      ]
    },
    {
      "cell_type": "code",
      "source": [
        "x"
      ],
      "metadata": {
        "colab": {
          "base_uri": "https://localhost:8080/"
        },
        "id": "HOtw-RWSjIC2",
        "outputId": "2f7dac84-1c6e-42e1-9c49-361c31744623"
      },
      "execution_count": 9,
      "outputs": [
        {
          "output_type": "execute_result",
          "data": {
            "text/plain": [
              "array([[  1],\n",
              "       [  3],\n",
              "       [ 15],\n",
              "       [ 22],\n",
              "       [ 28],\n",
              "       [ 30],\n",
              "       [ 35],\n",
              "       [ 54],\n",
              "       [ 64],\n",
              "       [ 74],\n",
              "       [ 75],\n",
              "       [ 82],\n",
              "       [ 83],\n",
              "       [ 86],\n",
              "       [104],\n",
              "       [106],\n",
              "       [113],\n",
              "       [180],\n",
              "       [181],\n",
              "       [239],\n",
              "       [361],\n",
              "       [393],\n",
              "       [454],\n",
              "       [489],\n",
              "       [524],\n",
              "       [587]])"
            ]
          },
          "metadata": {},
          "execution_count": 9
        }
      ]
    },
    {
      "cell_type": "code",
      "source": [
        "# training model\n",
        "from sklearn.linear_model import LinearRegression\n",
        "\n",
        "model = LinearRegression()\n",
        "model.fit(x, y) "
      ],
      "metadata": {
        "colab": {
          "base_uri": "https://localhost:8080/"
        },
        "id": "zw7rMfwejJiG",
        "outputId": "95e80a45-86b2-4ca6-b5df-56d64003548a"
      },
      "execution_count": 10,
      "outputs": [
        {
          "output_type": "execute_result",
          "data": {
            "text/plain": [
              "LinearRegression()"
            ]
          },
          "metadata": {},
          "execution_count": 10
        }
      ]
    },
    {
      "cell_type": "code",
      "source": [
        "x_vis = np.array([0, 800]).reshape(-1, 1)\n",
        "y_vis = model.predict(x_vis)"
      ],
      "metadata": {
        "id": "H2erStjTjPLn"
      },
      "execution_count": 11,
      "outputs": []
    },
    {
      "cell_type": "code",
      "source": [
        "plt.scatter(x, y)\n",
        "plt.plot(x_vis, y_vis, '-r')\n",
        "plt.title('indeks kesejahteraan warga')\n",
        "plt.xlabel('X')\n",
        "plt.ylabel('y')\n",
        "plt.xlim(0, 700)\n",
        "plt.ylim(0, 700)\n",
        "plt.grid(True)\n",
        "plt.show()"
      ],
      "metadata": {
        "colab": {
          "base_uri": "https://localhost:8080/",
          "height": 295
        },
        "id": "TuJWale7jbOJ",
        "outputId": "dbae7cc1-ddd5-4dc4-cd95-aa5e8af795be"
      },
      "execution_count": 12,
      "outputs": [
        {
          "output_type": "display_data",
          "data": {
            "text/plain": [
              "<Figure size 432x288 with 1 Axes>"
            ],
            "image/png": "[encoded data removed]"
          },
          "metadata": {
            "needs_background": "light"
          }
        }
      ]
    },
    {
      "cell_type": "code",
      "source": [
        "print(f'intercept : {model.intercept_}')\n",
        "print(f'slope : {model.coef_}')"
      ],
      "metadata": {
        "colab": {
          "base_uri": "https://localhost:8080/"
        },
        "id": "Jo0tjVG9jXOX",
        "outputId": "175326f1-669b-4ac1-e7d6-3e6e9e9860c9"
      },
      "execution_count": 13,
      "outputs": [
        {
          "output_type": "stream",
          "name": "stdout",
          "text": [
            "intercept : 12.576499680180461\n",
            "slope : [0.9187796]\n"
          ]
        }
      ]
    },
    {
      "cell_type": "code",
      "source": [
        "jumlah_yang_ada = np.array([200, 300, 400, 500]).reshape(-1, 1)\n",
        "jumlah_yang_ada"
      ],
      "metadata": {
        "colab": {
          "base_uri": "https://localhost:8080/"
        },
        "id": "V3f7cTQEjZ0O",
        "outputId": "295c404f-619f-4195-8bd3-ebefaade2b6f"
      },
      "execution_count": 14,
      "outputs": [
        {
          "output_type": "execute_result",
          "data": {
            "text/plain": [
              "array([[200],\n",
              "       [300],\n",
              "       [400],\n",
              "       [500]])"
            ]
          },
          "metadata": {},
          "execution_count": 14
        }
      ]
    },
    {
      "cell_type": "code",
      "source": [
        "prediksi_indeks = model.predict(jumlah_yang_ada)\n",
        "prediksi_indeks"
      ],
      "metadata": {
        "colab": {
          "base_uri": "https://localhost:8080/"
        },
        "id": "shBeKLOfjkPA",
        "outputId": "a2de3ed7-29de-4d3f-f935-655b52c80409"
      },
      "execution_count": 15,
      "outputs": [
        {
          "output_type": "execute_result",
          "data": {
            "text/plain": [
              "array([196.33242066, 288.21038115, 380.08834164, 471.96630213])"
            ]
          },
          "metadata": {},
          "execution_count": 15
        }
      ]
    },
    {
      "cell_type": "code",
      "source": [
        "for penduduk, index in zip(jumlah_yang_ada, prediksi_indeks):\n",
        "  print(f'luas panen: {penduduk} produksi : {index}')"
      ],
      "metadata": {
        "colab": {
          "base_uri": "https://localhost:8080/"
        },
        "id": "0JV0R06akLf2",
        "outputId": "34ead2fa-0f7d-4032-9a83-92c8ed6973ea"
      },
      "execution_count": 16,
      "outputs": [
        {
          "output_type": "stream",
          "name": "stdout",
          "text": [
            "luas panen: [200] produksi : 196.3324206619422\n",
            "luas panen: [300] produksi : 288.21038115282306\n",
            "luas panen: [400] produksi : 380.0883416437039\n",
            "luas panen: [500] produksi : 471.9663021345848\n"
          ]
        }
      ]
    },
    {
      "cell_type": "code",
      "source": [
        "fig = plt.figure()\n",
        "ax = fig.add_axes([0,0,1,1])\n",
        "indeks = (df['jumlah_yang_dilaporkan'])\n",
        "jumlah = (df['jumlah_yang_ada'])\n",
        "c = ['blue', 'yellow', 'green','red','gray']\n",
        "plt.title(\"tabel index kesejahteraan\")\n",
        "plt.xlabel(\"index kesejahteraaan\")\n",
        "plt.ylabel(\"jumlah penduduk\")\n",
        "plt.bar(indeks, jumlah, color = c)\n",
        "plt.grid(True)\n",
        "plt.show "
      ],
      "metadata": {
        "id": "F2kbm7VskZbp",
        "colab": {
          "base_uri": "https://localhost:8080/",
          "height": 384
        },
        "outputId": "cfadc925-e2aa-40ef-eb33-a9495e190452"
      },
      "execution_count": 17,
      "outputs": [
        {
          "output_type": "execute_result",
          "data": {
            "text/plain": [
              "<function matplotlib.pyplot.show(*args, **kw)>"
            ]
          },
          "metadata": {},
          "execution_count": 17
        },
        {
          "output_type": "display_data",
          "data": {
            "text/plain": [
              "<Figure size 432x288 with 1 Axes>"
            ],
            "image/png": "[encoded data removed]"
          },
          "metadata": {
            "needs_background": "light"
          }
        }
      ]
    },
    {
      "cell_type": "code",
      "source": [
        "# PIECART\n",
        "fig = plt.figure()\n",
        "ax = fig.add_axes([0,0,1,1])\n",
        "ax.axis('equal')\n",
        "plt.title(\"pajak dan hutang\")\n",
        "jurusan =df [ 'jumlah_yang_dilaporkan' ]\n",
        "siswa = df['jumlah_yang_ada']\n",
        "ax.pie(siswa,labels=jurusan,autopct='%1.2f%%')\n",
        "plt.show()\n",
        "print()"
      ],
      "metadata": {
        "colab": {
          "base_uri": "https://localhost:8080/",
          "height": 353
        },
        "id": "qhkQ907w9acP",
        "outputId": "fbf873cd-abf1-49ca-a2af-c09c17adef78"
      },
      "execution_count": 19,
      "outputs": [
        {
          "output_type": "display_data",
          "data": {
            "text/plain": [
              "<Figure size 432x288 with 1 Axes>"
            ],
            "image/png": "[encoded data removed]"
          },
          "metadata": {}
        },
        {
          "output_type": "stream",
          "name": "stdout",
          "text": [
            "\n"
          ]
        }
      ]
    }
  ]
}